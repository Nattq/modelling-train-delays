{
 "cells": [
  {
   "cell_type": "code",
   "execution_count": 1,
   "id": "ec6d9772",
   "metadata": {},
   "outputs": [],
   "source": [
    "using Evolutionary\n",
    "using Statistics\n",
    "using Random"
   ]
  },
  {
   "cell_type": "code",
   "execution_count": 2,
   "id": "2267ec34",
   "metadata": {},
   "outputs": [
    {
     "data": {
      "text/plain": [
       "rk4 (generic function with 1 method)"
      ]
     },
     "execution_count": 2,
     "metadata": {},
     "output_type": "execute_result"
    }
   ],
   "source": [
    "function rk4(f, s0, x0, xf, n, a, b)\n",
    "    x = range(x0, stop = xf, length = n+1)  # x grid\n",
    "    s = repeat([s0], n+1, 1)  # array of the state of the system for each x\n",
    "    h = x[2] - x[1]  # step size\n",
    "    for i in 1:n\n",
    "        k0 = h * f(s[i], a, b)\n",
    "        k1 = h * f(s[i] + 0.5 * k0, a, b)\n",
    "        k2 = h * f(s[i] + 0.5 * k1, a, b)\n",
    "        k3 = h * f(s[i] + k2, a, b)\n",
    "        s[i+1] = s[i] + (k0 + 2*(k1 + k2) + k3) / 6\n",
    "    end\n",
    "    return x, s\n",
    "end"
   ]
  },
  {
   "cell_type": "code",
   "execution_count": 3,
   "id": "fc4ffd3d",
   "metadata": {},
   "outputs": [
    {
     "data": {
      "text/plain": [
       "f (generic function with 1 method)"
      ]
     },
     "execution_count": 3,
     "metadata": {},
     "output_type": "execute_result"
    }
   ],
   "source": [
    "function f(u, a, b)\n",
    "    S, I, R = u\n",
    "    N = sum(u)\n",
    "    dS = -a*S*I/N  # dS/dt = -aS(t)I(t)\n",
    "    dI = a*S*I/N - b*I  # dI/dt = aS(t)I(t) - bI(t)\n",
    "    dR = b*I  # dR/dt = bI(t)\n",
    "    return [dS, dI, dR]\n",
    "end"
   ]
  },
  {
   "cell_type": "code",
   "execution_count": 4,
   "id": "542cae4f",
   "metadata": {},
   "outputs": [
    {
     "data": {
      "text/plain": [
       "MAPE (generic function with 1 method)"
      ]
     },
     "execution_count": 4,
     "metadata": {},
     "output_type": "execute_result"
    }
   ],
   "source": [
    "function MAPE(xs, ys) #average absolute error\n",
    "    return mean(abs.(xs .- ys)./xs)\n",
    "end"
   ]
  },
  {
   "cell_type": "code",
   "execution_count": 5,
   "id": "ab42b50f",
   "metadata": {},
   "outputs": [],
   "source": [
    "beta = 0.2\n",
    "gamma = 0.1\n",
    "x, data = rk4(f, [235.0, 14.0, 0.0], 0., 109., 1090, beta, gamma)\n",
    "I = [x[2] for x in data];"
   ]
  },
  {
   "cell_type": "code",
   "execution_count": 6,
   "id": "f5c6bf38",
   "metadata": {},
   "outputs": [
    {
     "data": {
      "text/plain": [
       "fitness_func (generic function with 1 method)"
      ]
     },
     "execution_count": 6,
     "metadata": {},
     "output_type": "execute_result"
    }
   ],
   "source": [
    "function fitness_func(solution) #solution = [beta, gamma]\n",
    "    x, s = rk4(f, [235.0, 14.0, 0.0], 0., 109., 1090, solution[1], solution[2])\n",
    "    I_m = [x[2] for x in s]\n",
    "    return MAPE(I, I_m) #albo MAPE(I_m, I)\n",
    "end"
   ]
  },
  {
   "cell_type": "code",
   "execution_count": 8,
   "id": "3f192975",
   "metadata": {},
   "outputs": [
    {
     "data": {
      "text/plain": [
       "\n",
       " * Status: success\n",
       "\n",
       " * Candidate solution\n",
       "    Minimizer:  [0.20031902155640857, 0.09978247184443811]\n",
       "    Minimum:    0.003024795224118891\n",
       "    Iterations: 108\n",
       "\n",
       " * Found with\n",
       "    Algorithm: GA[P=100,x=0.8,μ=0.5,ɛ=0.1]\n",
       "\n",
       " * Convergence measures\n",
       "    |f(x) - f(x')| = 0.0 ≤ 1.0e-12\n",
       "\n",
       " * Work counters\n",
       "    Seconds run:   12.918 (vs limit Inf)\n",
       "    Iterations:    108\n",
       "    f(x) calls:    10900\n"
      ]
     },
     "execution_count": 8,
     "metadata": {},
     "output_type": "execute_result"
    }
   ],
   "source": [
    "Evolutionary.optimize(\n",
    "                fitness_func, \n",
    "                BoxConstraints([0.0, 0.0], [1.0, 1.0]),\n",
    "                rand(2),\n",
    "                GA(populationSize = 100, selection = susinv, crossover = AX, mutation = uniform(0.1), mutationRate = 0.5, ε = 0.1)\n",
    ")"
   ]
  },
  {
   "cell_type": "code",
   "execution_count": null,
   "id": "5664b89e",
   "metadata": {},
   "outputs": [],
   "source": []
  }
 ],
 "metadata": {
  "kernelspec": {
   "display_name": "Julia 1.8.3",
   "language": "julia",
   "name": "julia-1.8"
  },
  "language_info": {
   "file_extension": ".jl",
   "mimetype": "application/julia",
   "name": "julia",
   "version": "1.8.3"
  }
 },
 "nbformat": 4,
 "nbformat_minor": 5
}
