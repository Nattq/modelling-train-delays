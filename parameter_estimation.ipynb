{
 "cells": [
  {
   "cell_type": "code",
   "execution_count": 117,
   "id": "ec6d9772",
   "metadata": {},
   "outputs": [],
   "source": [
    "using Evolutionary\n",
    "using Statistics\n",
    "using Random"
   ]
  },
  {
   "cell_type": "code",
   "execution_count": 122,
   "id": "2267ec34",
   "metadata": {},
   "outputs": [
    {
     "data": {
      "text/plain": [
       "runge_kutta_method (generic function with 6 methods)"
      ]
     },
     "execution_count": 122,
     "metadata": {},
     "output_type": "execute_result"
    }
   ],
   "source": [
    "function runge_kutta_method(f::Function, x::LinRange, initial_condition::Vector, params::Vector = [])::Tuple{LinRange, Array}\n",
    "    n = length(x) - 1\n",
    "    solution = Array{Float64}(undef, n+1, length(initial_condition))\n",
    "    solution[1, :] =  initial_condition\n",
    "    h = x[2] - x[1]  \n",
    "    for i in 1:n\n",
    "        k₀ = h * f(solution[i, :], params...)\n",
    "        k₁ = h * f(solution[i, :] + 0.5 * k₀, params...)\n",
    "        k₂ = h * f(solution[i, :] + 0.5 * k₁, params...)\n",
    "        k₃ = h * f(solution[i, :] + k₂, params...)\n",
    "        solution[i+1, :] = solution[i, :] + (k₀ + 2*(k₁ + k₂) + k₃) / 6\n",
    "    end\n",
    "    x, solution\n",
    "end"
   ]
  },
  {
   "cell_type": "code",
   "execution_count": 123,
   "id": "fc4ffd3d",
   "metadata": {},
   "outputs": [
    {
     "data": {
      "text/plain": [
       "SIR_derivatives (generic function with 1 method)"
      ]
     },
     "execution_count": 123,
     "metadata": {},
     "output_type": "execute_result"
    }
   ],
   "source": [
    "function SIR_derivatives(SIR_numbers::Vector{Float64}, β::Number, γ::Number)::Vector{Float64}\n",
    "    S, I, R = SIR_numbers\n",
    "    N = sum(SIR_numbers)\n",
    "    dS = -β*S*I/N  \n",
    "    dI = β*S*I/N - γ*I  \n",
    "    dR = γ*I  \n",
    "    [dS, dI, dR]\n",
    "end"
   ]
  },
  {
   "cell_type": "code",
   "execution_count": 124,
   "id": "542cae4f",
   "metadata": {},
   "outputs": [
    {
     "data": {
      "text/plain": [
       "mean_relative_error (generic function with 2 methods)"
      ]
     },
     "execution_count": 124,
     "metadata": {},
     "output_type": "execute_result"
    }
   ],
   "source": [
    "function mean_relative_error(xs::Vector{Number}, ys::Vector{Number})::Number \n",
    "    mean(abs.(xs .- ys)./xs)\n",
    "end"
   ]
  },
  {
   "cell_type": "code",
   "execution_count": 125,
   "id": "ab42b50f",
   "metadata": {},
   "outputs": [],
   "source": [
    "β = 0.2 \n",
    "γ = 0.1\n",
    "x, data = runge_kutta_method(SIR_derivatives, LinRange(0.0, 109.0, 1091), [235.0, 14.0, 0.0], [β, γ])\n",
    "I = data[:, 2];"
   ]
  },
  {
   "cell_type": "code",
   "execution_count": 126,
   "id": "f5c6bf38",
   "metadata": {},
   "outputs": [
    {
     "data": {
      "text/plain": [
       "fitness_func (generic function with 1 method)"
      ]
     },
     "execution_count": 126,
     "metadata": {},
     "output_type": "execute_result"
    }
   ],
   "source": [
    "function fitness_func(solution)\n",
    "    x, s = runge_kutta_method(SIR_derivatives, LinRange(0.0, 109.0, 1091), [235.0, 14.0, 0.0], solution)\n",
    "    I_m = s[:, 2]\n",
    "    mean_relative_error(I, I_m)\n",
    "end"
   ]
  },
  {
   "cell_type": "code",
   "execution_count": 129,
   "id": "3f192975",
   "metadata": {},
   "outputs": [
    {
     "data": {
      "text/plain": [
       "\n",
       " * Status: success\n",
       "\n",
       " * Candidate solution\n",
       "    Minimizer:  [0.20016070429261285, 0.10010828506733484]\n",
       "    Minimum:    0.002767875880251137\n",
       "    Iterations: 68\n",
       "\n",
       " * Found with\n",
       "    Algorithm: GA[P=100,x=0.8,μ=0.5,ɛ=0.1]\n",
       "\n",
       " * Convergence measures\n",
       "    |f(x) - f(x')| = 0.0 ≤ 1.0e-12\n",
       "\n",
       " * Work counters\n",
       "    Seconds run:   26.682 (vs limit Inf)\n",
       "    Iterations:    68\n",
       "    f(x) calls:    6900\n"
      ]
     },
     "execution_count": 129,
     "metadata": {},
     "output_type": "execute_result"
    }
   ],
   "source": [
    "Evolutionary.optimize(\n",
    "    fitness_func, \n",
    "    BoxConstraints([0.0, 0.0], [1.0, 1.0]),\n",
    "    rand(2),\n",
    "    GA(populationSize = 100, selection = susinv, crossover = AX, mutation = uniform(0.1), mutationRate = 0.5, ε = 0.1)\n",
    ")"
   ]
  },
  {
   "cell_type": "code",
   "execution_count": null,
   "id": "1a25687e",
   "metadata": {},
   "outputs": [],
   "source": []
  }
 ],
 "metadata": {
  "kernelspec": {
   "display_name": "Julia 1.8.3",
   "language": "julia",
   "name": "julia-1.8"
  },
  "language_info": {
   "file_extension": ".jl",
   "mimetype": "application/julia",
   "name": "julia",
   "version": "1.8.3"
  }
 },
 "nbformat": 4,
 "nbformat_minor": 5
}
