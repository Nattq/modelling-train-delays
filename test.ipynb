{
 "cells": [
  {
   "cell_type": "code",
   "execution_count": 46,
   "metadata": {},
   "outputs": [],
   "source": [
    "import pandas as pd\n",
    "from datetime import datetime, timedelta\n",
    "import matplotlib.pyplot as plt"
   ]
  },
  {
   "cell_type": "code",
   "execution_count": 55,
   "metadata": {},
   "outputs": [
    {
     "data": {
      "text/html": [
       "<div>\n",
       "<style scoped>\n",
       "    .dataframe tbody tr th:only-of-type {\n",
       "        vertical-align: middle;\n",
       "    }\n",
       "\n",
       "    .dataframe tbody tr th {\n",
       "        vertical-align: top;\n",
       "    }\n",
       "\n",
       "    .dataframe thead th {\n",
       "        text-align: right;\n",
       "    }\n",
       "</style>\n",
       "<table border=\"1\" class=\"dataframe\">\n",
       "  <thead>\n",
       "    <tr style=\"text-align: right;\">\n",
       "      <th></th>\n",
       "      <th>nazwa_pociagu</th>\n",
       "      <th>stacja_poczatkowa</th>\n",
       "      <th>stacja_koncowa</th>\n",
       "      <th>stacja_pomiaru</th>\n",
       "      <th>data</th>\n",
       "      <th>czas_rozkladowy</th>\n",
       "      <th>czas_przyjazdu</th>\n",
       "      <th>opoznienie</th>\n",
       "    </tr>\n",
       "  </thead>\n",
       "  <tbody>\n",
       "    <tr>\n",
       "      <th>92528</th>\n",
       "      <td>MPE 83152/3 LUBOMIRSKI</td>\n",
       "      <td>Kołobrzeg</td>\n",
       "      <td>Kraków Główny</td>\n",
       "      <td>Sopot</td>\n",
       "      <td>24.12</td>\n",
       "      <td>09:50</td>\n",
       "      <td>09:59</td>\n",
       "      <td>9.0</td>\n",
       "    </tr>\n",
       "    <tr>\n",
       "      <th>92529</th>\n",
       "      <td>MPE 83152/3 LUBOMIRSKI</td>\n",
       "      <td>Kołobrzeg</td>\n",
       "      <td>Kraków Główny</td>\n",
       "      <td>Gdańsk Oliwa</td>\n",
       "      <td>24.12</td>\n",
       "      <td>09:55</td>\n",
       "      <td>10:05</td>\n",
       "      <td>10.0</td>\n",
       "    </tr>\n",
       "    <tr>\n",
       "      <th>92530</th>\n",
       "      <td>MPE 83152/3 LUBOMIRSKI</td>\n",
       "      <td>Kołobrzeg</td>\n",
       "      <td>Kraków Główny</td>\n",
       "      <td>Gdańsk Wrzeszcz</td>\n",
       "      <td>24.12</td>\n",
       "      <td>10:00</td>\n",
       "      <td>10:10</td>\n",
       "      <td>10.0</td>\n",
       "    </tr>\n",
       "    <tr>\n",
       "      <th>92531</th>\n",
       "      <td>MPE 83152/3 LUBOMIRSKI</td>\n",
       "      <td>Kołobrzeg</td>\n",
       "      <td>Kraków Główny</td>\n",
       "      <td>Gdańsk Główny</td>\n",
       "      <td>24.12</td>\n",
       "      <td>10:07</td>\n",
       "      <td>10:17</td>\n",
       "      <td>10.0</td>\n",
       "    </tr>\n",
       "    <tr>\n",
       "      <th>92532</th>\n",
       "      <td>MPE 83152/3 LUBOMIRSKI</td>\n",
       "      <td>Kołobrzeg</td>\n",
       "      <td>Kraków Główny</td>\n",
       "      <td>Tczew</td>\n",
       "      <td>24.12</td>\n",
       "      <td>10:27</td>\n",
       "      <td>10:40</td>\n",
       "      <td>13.0</td>\n",
       "    </tr>\n",
       "    <tr>\n",
       "      <th>92533</th>\n",
       "      <td>MPE 83152/3 LUBOMIRSKI</td>\n",
       "      <td>Kołobrzeg</td>\n",
       "      <td>Kraków Główny</td>\n",
       "      <td>Malbork</td>\n",
       "      <td>24.12</td>\n",
       "      <td>10:40</td>\n",
       "      <td>10:54</td>\n",
       "      <td>14.0</td>\n",
       "    </tr>\n",
       "    <tr>\n",
       "      <th>92534</th>\n",
       "      <td>MPE 83152/3 LUBOMIRSKI</td>\n",
       "      <td>Kołobrzeg</td>\n",
       "      <td>Kraków Główny</td>\n",
       "      <td>Prabuty</td>\n",
       "      <td>24.12</td>\n",
       "      <td>11:03</td>\n",
       "      <td>11:20</td>\n",
       "      <td>17.0</td>\n",
       "    </tr>\n",
       "    <tr>\n",
       "      <th>92535</th>\n",
       "      <td>MPE 83152/3 LUBOMIRSKI</td>\n",
       "      <td>Kołobrzeg</td>\n",
       "      <td>Kraków Główny</td>\n",
       "      <td>Iława Główna</td>\n",
       "      <td>24.12</td>\n",
       "      <td>11:23</td>\n",
       "      <td>11:41</td>\n",
       "      <td>18.0</td>\n",
       "    </tr>\n",
       "    <tr>\n",
       "      <th>92536</th>\n",
       "      <td>MPE 83152/3 LUBOMIRSKI</td>\n",
       "      <td>Kołobrzeg</td>\n",
       "      <td>Kraków Główny</td>\n",
       "      <td>Działdowo</td>\n",
       "      <td>24.12</td>\n",
       "      <td>11:57</td>\n",
       "      <td>12:15</td>\n",
       "      <td>18.0</td>\n",
       "    </tr>\n",
       "    <tr>\n",
       "      <th>92537</th>\n",
       "      <td>MPE 83152/3 LUBOMIRSKI</td>\n",
       "      <td>Kołobrzeg</td>\n",
       "      <td>Kraków Główny</td>\n",
       "      <td>Mława</td>\n",
       "      <td>24.12</td>\n",
       "      <td>12:08</td>\n",
       "      <td>12:28</td>\n",
       "      <td>20.0</td>\n",
       "    </tr>\n",
       "    <tr>\n",
       "      <th>92538</th>\n",
       "      <td>MPE 83152/3 LUBOMIRSKI</td>\n",
       "      <td>Kołobrzeg</td>\n",
       "      <td>Kraków Główny</td>\n",
       "      <td>Ciechanów</td>\n",
       "      <td>24.12</td>\n",
       "      <td>12:25</td>\n",
       "      <td>12:48</td>\n",
       "      <td>23.0</td>\n",
       "    </tr>\n",
       "    <tr>\n",
       "      <th>92539</th>\n",
       "      <td>MPE 83152/3 LUBOMIRSKI</td>\n",
       "      <td>Kołobrzeg</td>\n",
       "      <td>Kraków Główny</td>\n",
       "      <td>Nowy Dwór Mazowiecki</td>\n",
       "      <td>24.12</td>\n",
       "      <td>12:56</td>\n",
       "      <td>13:25</td>\n",
       "      <td>29.0</td>\n",
       "    </tr>\n",
       "    <tr>\n",
       "      <th>92540</th>\n",
       "      <td>MPE 83152/3 LUBOMIRSKI</td>\n",
       "      <td>Kołobrzeg</td>\n",
       "      <td>Kraków Główny</td>\n",
       "      <td>Legionowo</td>\n",
       "      <td>24.12</td>\n",
       "      <td>13:06</td>\n",
       "      <td>13:38</td>\n",
       "      <td>32.0</td>\n",
       "    </tr>\n",
       "    <tr>\n",
       "      <th>92541</th>\n",
       "      <td>MPE 83152/3 LUBOMIRSKI</td>\n",
       "      <td>Kołobrzeg</td>\n",
       "      <td>Kraków Główny</td>\n",
       "      <td>Warszawa Wschodnia</td>\n",
       "      <td>24.12</td>\n",
       "      <td>13:21</td>\n",
       "      <td>13:55</td>\n",
       "      <td>34.0</td>\n",
       "    </tr>\n",
       "    <tr>\n",
       "      <th>92542</th>\n",
       "      <td>MPE 83152/3 LUBOMIRSKI</td>\n",
       "      <td>Kołobrzeg</td>\n",
       "      <td>Kraków Główny</td>\n",
       "      <td>Warszawa Centralna</td>\n",
       "      <td>24.12</td>\n",
       "      <td>13:30</td>\n",
       "      <td>14:04</td>\n",
       "      <td>34.0</td>\n",
       "    </tr>\n",
       "    <tr>\n",
       "      <th>92543</th>\n",
       "      <td>MPE 83152/3 LUBOMIRSKI</td>\n",
       "      <td>Kołobrzeg</td>\n",
       "      <td>Kraków Główny</td>\n",
       "      <td>Warszawa Zachodnia</td>\n",
       "      <td>24.12</td>\n",
       "      <td>14:00</td>\n",
       "      <td>14:26</td>\n",
       "      <td>26.0</td>\n",
       "    </tr>\n",
       "    <tr>\n",
       "      <th>92544</th>\n",
       "      <td>MPE 83152/3 LUBOMIRSKI</td>\n",
       "      <td>Kołobrzeg</td>\n",
       "      <td>Kraków Główny</td>\n",
       "      <td>Opoczno Południe</td>\n",
       "      <td>24.12</td>\n",
       "      <td>15:08</td>\n",
       "      <td>15:49</td>\n",
       "      <td>41.0</td>\n",
       "    </tr>\n",
       "    <tr>\n",
       "      <th>92545</th>\n",
       "      <td>MPE 83152/3 LUBOMIRSKI</td>\n",
       "      <td>Kołobrzeg</td>\n",
       "      <td>Kraków Główny</td>\n",
       "      <td>Włoszczowa Północ</td>\n",
       "      <td>24.12</td>\n",
       "      <td>15:41</td>\n",
       "      <td>16:28</td>\n",
       "      <td>47.0</td>\n",
       "    </tr>\n",
       "    <tr>\n",
       "      <th>92546</th>\n",
       "      <td>MPE 83152/3 LUBOMIRSKI</td>\n",
       "      <td>Kołobrzeg</td>\n",
       "      <td>Kraków Główny</td>\n",
       "      <td>Miechów</td>\n",
       "      <td>24.12</td>\n",
       "      <td>16:18</td>\n",
       "      <td>16:58</td>\n",
       "      <td>40.0</td>\n",
       "    </tr>\n",
       "    <tr>\n",
       "      <th>92547</th>\n",
       "      <td>MPE 83152/3 LUBOMIRSKI</td>\n",
       "      <td>Kołobrzeg</td>\n",
       "      <td>Kraków Główny</td>\n",
       "      <td>Kraków Główny</td>\n",
       "      <td>24.12</td>\n",
       "      <td>16:50</td>\n",
       "      <td>17:29</td>\n",
       "      <td>39.0</td>\n",
       "    </tr>\n",
       "  </tbody>\n",
       "</table>\n",
       "</div>"
      ],
      "text/plain": [
       "                nazwa_pociagu stacja_poczatkowa stacja_koncowa  \\\n",
       "92528  MPE 83152/3 LUBOMIRSKI         Kołobrzeg  Kraków Główny   \n",
       "92529  MPE 83152/3 LUBOMIRSKI         Kołobrzeg  Kraków Główny   \n",
       "92530  MPE 83152/3 LUBOMIRSKI         Kołobrzeg  Kraków Główny   \n",
       "92531  MPE 83152/3 LUBOMIRSKI         Kołobrzeg  Kraków Główny   \n",
       "92532  MPE 83152/3 LUBOMIRSKI         Kołobrzeg  Kraków Główny   \n",
       "92533  MPE 83152/3 LUBOMIRSKI         Kołobrzeg  Kraków Główny   \n",
       "92534  MPE 83152/3 LUBOMIRSKI         Kołobrzeg  Kraków Główny   \n",
       "92535  MPE 83152/3 LUBOMIRSKI         Kołobrzeg  Kraków Główny   \n",
       "92536  MPE 83152/3 LUBOMIRSKI         Kołobrzeg  Kraków Główny   \n",
       "92537  MPE 83152/3 LUBOMIRSKI         Kołobrzeg  Kraków Główny   \n",
       "92538  MPE 83152/3 LUBOMIRSKI         Kołobrzeg  Kraków Główny   \n",
       "92539  MPE 83152/3 LUBOMIRSKI         Kołobrzeg  Kraków Główny   \n",
       "92540  MPE 83152/3 LUBOMIRSKI         Kołobrzeg  Kraków Główny   \n",
       "92541  MPE 83152/3 LUBOMIRSKI         Kołobrzeg  Kraków Główny   \n",
       "92542  MPE 83152/3 LUBOMIRSKI         Kołobrzeg  Kraków Główny   \n",
       "92543  MPE 83152/3 LUBOMIRSKI         Kołobrzeg  Kraków Główny   \n",
       "92544  MPE 83152/3 LUBOMIRSKI         Kołobrzeg  Kraków Główny   \n",
       "92545  MPE 83152/3 LUBOMIRSKI         Kołobrzeg  Kraków Główny   \n",
       "92546  MPE 83152/3 LUBOMIRSKI         Kołobrzeg  Kraków Główny   \n",
       "92547  MPE 83152/3 LUBOMIRSKI         Kołobrzeg  Kraków Główny   \n",
       "\n",
       "             stacja_pomiaru   data czas_rozkladowy czas_przyjazdu  opoznienie  \n",
       "92528                 Sopot  24.12           09:50          09:59         9.0  \n",
       "92529          Gdańsk Oliwa  24.12           09:55          10:05        10.0  \n",
       "92530       Gdańsk Wrzeszcz  24.12           10:00          10:10        10.0  \n",
       "92531         Gdańsk Główny  24.12           10:07          10:17        10.0  \n",
       "92532                 Tczew  24.12           10:27          10:40        13.0  \n",
       "92533               Malbork  24.12           10:40          10:54        14.0  \n",
       "92534               Prabuty  24.12           11:03          11:20        17.0  \n",
       "92535          Iława Główna  24.12           11:23          11:41        18.0  \n",
       "92536             Działdowo  24.12           11:57          12:15        18.0  \n",
       "92537                 Mława  24.12           12:08          12:28        20.0  \n",
       "92538             Ciechanów  24.12           12:25          12:48        23.0  \n",
       "92539  Nowy Dwór Mazowiecki  24.12           12:56          13:25        29.0  \n",
       "92540             Legionowo  24.12           13:06          13:38        32.0  \n",
       "92541    Warszawa Wschodnia  24.12           13:21          13:55        34.0  \n",
       "92542    Warszawa Centralna  24.12           13:30          14:04        34.0  \n",
       "92543    Warszawa Zachodnia  24.12           14:00          14:26        26.0  \n",
       "92544      Opoczno Południe  24.12           15:08          15:49        41.0  \n",
       "92545     Włoszczowa Północ  24.12           15:41          16:28        47.0  \n",
       "92546               Miechów  24.12           16:18          16:58        40.0  \n",
       "92547         Kraków Główny  24.12           16:50          17:29        39.0  "
      ]
     },
     "execution_count": 55,
     "metadata": {},
     "output_type": "execute_result"
    }
   ],
   "source": [
    "df = pd.read_csv(\"D:\\studia\\sem6\\matematyka_dla_przemyslu\\projekt\\modelling-train-delays\\data\\Scrapping_03-12-23_12-10-44.csv\", na_values=\"--\", date_parser= \"data\")\n",
    "df[\"opoznienie\"].fillna(0);\n",
    "df.tail(20)"
   ]
  },
  {
   "cell_type": "code",
   "execution_count": 41,
   "metadata": {},
   "outputs": [
    {
     "data": {
      "text/plain": [
       "423"
      ]
     },
     "execution_count": 41,
     "metadata": {},
     "output_type": "execute_result"
    }
   ],
   "source": [
    "len(df[\"nazwa_pociagu\"].unique()) #ile pociagow, przeciwne kierunki liczone osobno"
   ]
  },
  {
   "cell_type": "code",
   "execution_count": 39,
   "metadata": {},
   "outputs": [
    {
     "data": {
      "text/plain": [
       "465"
      ]
     },
     "execution_count": 39,
     "metadata": {},
     "output_type": "execute_result"
    }
   ],
   "source": [
    "len(df[\"stacja_pomiaru\"].unique()) #ile stacji"
   ]
  },
  {
   "cell_type": "code",
   "execution_count": 54,
   "metadata": {},
   "outputs": [
    {
     "data": {
      "text/html": [
       "<div>\n",
       "<style scoped>\n",
       "    .dataframe tbody tr th:only-of-type {\n",
       "        vertical-align: middle;\n",
       "    }\n",
       "\n",
       "    .dataframe tbody tr th {\n",
       "        vertical-align: top;\n",
       "    }\n",
       "\n",
       "    .dataframe thead th {\n",
       "        text-align: right;\n",
       "    }\n",
       "</style>\n",
       "<table border=\"1\" class=\"dataframe\">\n",
       "  <thead>\n",
       "    <tr style=\"text-align: right;\">\n",
       "      <th></th>\n",
       "      <th>nazwa_pociagu</th>\n",
       "      <th>stacja_poczatkowa</th>\n",
       "      <th>stacja_koncowa</th>\n",
       "      <th>stacja_pomiaru</th>\n",
       "      <th>data</th>\n",
       "      <th>czas_rozkladowy</th>\n",
       "      <th>czas_przyjazdu</th>\n",
       "      <th>opoznienie</th>\n",
       "    </tr>\n",
       "  </thead>\n",
       "  <tbody>\n",
       "    <tr>\n",
       "      <th>72700</th>\n",
       "      <td>MPE 85100/1 ALBATROS</td>\n",
       "      <td>Szczecin Główny</td>\n",
       "      <td>Gdańsk Główny</td>\n",
       "      <td>Sopot</td>\n",
       "      <td>08.03</td>\n",
       "      <td>22:29</td>\n",
       "      <td>05:50</td>\n",
       "      <td>441.0</td>\n",
       "    </tr>\n",
       "    <tr>\n",
       "      <th>72701</th>\n",
       "      <td>MPE 85100/1 ALBATROS</td>\n",
       "      <td>Szczecin Główny</td>\n",
       "      <td>Gdańsk Główny</td>\n",
       "      <td>Gdańsk Oliwa</td>\n",
       "      <td>08.03</td>\n",
       "      <td>22:34</td>\n",
       "      <td>05:55</td>\n",
       "      <td>441.0</td>\n",
       "    </tr>\n",
       "    <tr>\n",
       "      <th>72702</th>\n",
       "      <td>MPE 85100/1 ALBATROS</td>\n",
       "      <td>Szczecin Główny</td>\n",
       "      <td>Gdańsk Główny</td>\n",
       "      <td>Gdańsk Wrzeszcz</td>\n",
       "      <td>08.03</td>\n",
       "      <td>22:38</td>\n",
       "      <td>05:59</td>\n",
       "      <td>441.0</td>\n",
       "    </tr>\n",
       "  </tbody>\n",
       "</table>\n",
       "</div>"
      ],
      "text/plain": [
       "              nazwa_pociagu stacja_poczatkowa stacja_koncowa   stacja_pomiaru  \\\n",
       "72700  MPE 85100/1 ALBATROS   Szczecin Główny  Gdańsk Główny            Sopot   \n",
       "72701  MPE 85100/1 ALBATROS   Szczecin Główny  Gdańsk Główny     Gdańsk Oliwa   \n",
       "72702  MPE 85100/1 ALBATROS   Szczecin Główny  Gdańsk Główny  Gdańsk Wrzeszcz   \n",
       "\n",
       "        data czas_rozkladowy czas_przyjazdu  opoznienie  \n",
       "72700  08.03           22:29          05:50       441.0  \n",
       "72701  08.03           22:34          05:55       441.0  \n",
       "72702  08.03           22:38          05:59       441.0  "
      ]
     },
     "execution_count": 54,
     "metadata": {},
     "output_type": "execute_result"
    }
   ],
   "source": [
    "max(df[\"opoznienie\"]) #max oponienie\n",
    "df[df[\"opoznienie\"] == max(df[\"opoznienie\"])]"
   ]
  },
  {
   "cell_type": "code",
   "execution_count": 40,
   "metadata": {},
   "outputs": [
    {
     "data": {
      "text/plain": [
       "-22.0"
      ]
     },
     "execution_count": 40,
     "metadata": {},
     "output_type": "execute_result"
    }
   ],
   "source": [
    "min(df[\"opoznienie\"]) # najmniejsze opoznienie, czyli jak szybko przed czasem"
   ]
  },
  {
   "cell_type": "code",
   "execution_count": 62,
   "metadata": {},
   "outputs": [
    {
     "data": {
      "text/plain": [
       "0         0.0\n",
       "1        -4.0\n",
       "2         0.0\n",
       "3        -3.0\n",
       "4         0.0\n",
       "         ... \n",
       "92543    26.0\n",
       "92544    41.0\n",
       "92545    47.0\n",
       "92546    40.0\n",
       "92547    39.0\n",
       "Name: opoznienie, Length: 92548, dtype: float64"
      ]
     },
     "execution_count": 62,
     "metadata": {},
     "output_type": "execute_result"
    }
   ],
   "source": [
    "df[\"opoznienie\"].fillna(0)"
   ]
  },
  {
   "cell_type": "code",
   "execution_count": 68,
   "metadata": {},
   "outputs": [
    {
     "data": {
      "text/plain": [
       "5.50625457448932"
      ]
     },
     "execution_count": 68,
     "metadata": {},
     "output_type": "execute_result"
    }
   ],
   "source": [
    "df[\"opoznienie\"].mean()"
   ]
  },
  {
   "cell_type": "code",
   "execution_count": 81,
   "metadata": {},
   "outputs": [
    {
     "data": {
      "text/plain": [
       "Text(0.5, 0, 'delay[min]')"
      ]
     },
     "execution_count": 81,
     "metadata": {},
     "output_type": "execute_result"
    },
    {
     "data": {
      "image/png": "[encoded data removed]",
      "text/plain": [
       "<Figure size 432x288 with 1 Axes>"
      ]
     },
     "metadata": {
      "needs_background": "light"
     },
     "output_type": "display_data"
    }
   ],
   "source": [
    "\n",
    "plt.hist(df[\"opoznienie\"], bins = 50, density= True, color= \"#FFDC68\")\n",
    "plt.xlabel(\"delay[min]\")\n",
    "plt.ylabel(\"density\")"
   ]
  },
  {
   "cell_type": "code",
   "execution_count": 89,
   "metadata": {},
   "outputs": [
    {
     "data": {
      "text/plain": [
       "0.5104270216536284"
      ]
     },
     "execution_count": 89,
     "metadata": {},
     "output_type": "execute_result"
    }
   ],
   "source": [
    "len(df[df[\"opoznienie\"]<= 0])/len(df) # procent puntualnych pociagów"
   ]
  }
 ],
 "metadata": {
  "kernelspec": {
   "display_name": "Python 3",
   "language": "python",
   "name": "python3"
  },
  "language_info": {
   "codemirror_mode": {
    "name": "ipython",
    "version": 3
   },
   "file_extension": ".py",
   "mimetype": "text/x-python",
   "name": "python",
   "nbconvert_exporter": "python",
   "pygments_lexer": "ipython3",
   "version": "3.8.5"
  },
  "orig_nbformat": 4
 },
 "nbformat": 4,
 "nbformat_minor": 2
}
