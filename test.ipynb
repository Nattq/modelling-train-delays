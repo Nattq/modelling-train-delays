{
 "cells": [
  {
   "cell_type": "code",
   "execution_count": 46,
   "metadata": {},
   "outputs": [],
   "source": [
    "import pandas as pd\n",
    "from datetime import datetime, timedelta\n",
    "import matplotlib.pyplot as plt"
   ]
  },
  {
   "cell_type": "code",
   "execution_count": 38,
   "metadata": {},
   "outputs": [
    {
     "data": {
      "text/html": [
       "<div>\n",
       "<style scoped>\n",
       "    .dataframe tbody tr th:only-of-type {\n",
       "        vertical-align: middle;\n",
       "    }\n",
       "\n",
       "    .dataframe tbody tr th {\n",
       "        vertical-align: top;\n",
       "    }\n",
       "\n",
       "    .dataframe thead th {\n",
       "        text-align: right;\n",
       "    }\n",
       "</style>\n",
       "<table border=\"1\" class=\"dataframe\">\n",
       "  <thead>\n",
       "    <tr style=\"text-align: right;\">\n",
       "      <th></th>\n",
       "      <th>nazwa_pociagu</th>\n",
       "      <th>stacja_poczatkowa</th>\n",
       "      <th>stacja_koncowa</th>\n",
       "      <th>stacja_pomiaru</th>\n",
       "      <th>data</th>\n",
       "      <th>czas_rozkladowy</th>\n",
       "      <th>czas_przyjazdu</th>\n",
       "      <th>opoznienie</th>\n",
       "    </tr>\n",
       "  </thead>\n",
       "  <tbody>\n",
       "    <tr>\n",
       "      <th>92538</th>\n",
       "      <td>MPE 83152/3 LUBOMIRSKI</td>\n",
       "      <td>Kołobrzeg</td>\n",
       "      <td>Kraków Główny</td>\n",
       "      <td>Ciechanów</td>\n",
       "      <td>24.12</td>\n",
       "      <td>12:25</td>\n",
       "      <td>12:48</td>\n",
       "      <td>23.0</td>\n",
       "    </tr>\n",
       "    <tr>\n",
       "      <th>92539</th>\n",
       "      <td>MPE 83152/3 LUBOMIRSKI</td>\n",
       "      <td>Kołobrzeg</td>\n",
       "      <td>Kraków Główny</td>\n",
       "      <td>Nowy Dwór Mazowiecki</td>\n",
       "      <td>24.12</td>\n",
       "      <td>12:56</td>\n",
       "      <td>13:25</td>\n",
       "      <td>29.0</td>\n",
       "    </tr>\n",
       "    <tr>\n",
       "      <th>92540</th>\n",
       "      <td>MPE 83152/3 LUBOMIRSKI</td>\n",
       "      <td>Kołobrzeg</td>\n",
       "      <td>Kraków Główny</td>\n",
       "      <td>Legionowo</td>\n",
       "      <td>24.12</td>\n",
       "      <td>13:06</td>\n",
       "      <td>13:38</td>\n",
       "      <td>32.0</td>\n",
       "    </tr>\n",
       "    <tr>\n",
       "      <th>92541</th>\n",
       "      <td>MPE 83152/3 LUBOMIRSKI</td>\n",
       "      <td>Kołobrzeg</td>\n",
       "      <td>Kraków Główny</td>\n",
       "      <td>Warszawa Wschodnia</td>\n",
       "      <td>24.12</td>\n",
       "      <td>13:21</td>\n",
       "      <td>13:55</td>\n",
       "      <td>34.0</td>\n",
       "    </tr>\n",
       "    <tr>\n",
       "      <th>92542</th>\n",
       "      <td>MPE 83152/3 LUBOMIRSKI</td>\n",
       "      <td>Kołobrzeg</td>\n",
       "      <td>Kraków Główny</td>\n",
       "      <td>Warszawa Centralna</td>\n",
       "      <td>24.12</td>\n",
       "      <td>13:30</td>\n",
       "      <td>14:04</td>\n",
       "      <td>34.0</td>\n",
       "    </tr>\n",
       "    <tr>\n",
       "      <th>92543</th>\n",
       "      <td>MPE 83152/3 LUBOMIRSKI</td>\n",
       "      <td>Kołobrzeg</td>\n",
       "      <td>Kraków Główny</td>\n",
       "      <td>Warszawa Zachodnia</td>\n",
       "      <td>24.12</td>\n",
       "      <td>14:00</td>\n",
       "      <td>14:26</td>\n",
       "      <td>26.0</td>\n",
       "    </tr>\n",
       "    <tr>\n",
       "      <th>92544</th>\n",
       "      <td>MPE 83152/3 LUBOMIRSKI</td>\n",
       "      <td>Kołobrzeg</td>\n",
       "      <td>Kraków Główny</td>\n",
       "      <td>Opoczno Południe</td>\n",
       "      <td>24.12</td>\n",
       "      <td>15:08</td>\n",
       "      <td>15:49</td>\n",
       "      <td>41.0</td>\n",
       "    </tr>\n",
       "    <tr>\n",
       "      <th>92545</th>\n",
       "      <td>MPE 83152/3 LUBOMIRSKI</td>\n",
       "      <td>Kołobrzeg</td>\n",
       "      <td>Kraków Główny</td>\n",
       "      <td>Włoszczowa Północ</td>\n",
       "      <td>24.12</td>\n",
       "      <td>15:41</td>\n",
       "      <td>16:28</td>\n",
       "      <td>47.0</td>\n",
       "    </tr>\n",
       "    <tr>\n",
       "      <th>92546</th>\n",
       "      <td>MPE 83152/3 LUBOMIRSKI</td>\n",
       "      <td>Kołobrzeg</td>\n",
       "      <td>Kraków Główny</td>\n",
       "      <td>Miechów</td>\n",
       "      <td>24.12</td>\n",
       "      <td>16:18</td>\n",
       "      <td>16:58</td>\n",
       "      <td>40.0</td>\n",
       "    </tr>\n",
       "    <tr>\n",
       "      <th>92547</th>\n",
       "      <td>MPE 83152/3 LUBOMIRSKI</td>\n",
       "      <td>Kołobrzeg</td>\n",
       "      <td>Kraków Główny</td>\n",
       "      <td>Kraków Główny</td>\n",
       "      <td>24.12</td>\n",
       "      <td>16:50</td>\n",
       "      <td>17:29</td>\n",
       "      <td>39.0</td>\n",
       "    </tr>\n",
       "  </tbody>\n",
       "</table>\n",
       "</div>"
      ],
      "text/plain": [
       "                nazwa_pociagu stacja_poczatkowa stacja_koncowa  \\\n",
       "92538  MPE 83152/3 LUBOMIRSKI         Kołobrzeg  Kraków Główny   \n",
       "92539  MPE 83152/3 LUBOMIRSKI         Kołobrzeg  Kraków Główny   \n",
       "92540  MPE 83152/3 LUBOMIRSKI         Kołobrzeg  Kraków Główny   \n",
       "92541  MPE 83152/3 LUBOMIRSKI         Kołobrzeg  Kraków Główny   \n",
       "92542  MPE 83152/3 LUBOMIRSKI         Kołobrzeg  Kraków Główny   \n",
       "92543  MPE 83152/3 LUBOMIRSKI         Kołobrzeg  Kraków Główny   \n",
       "92544  MPE 83152/3 LUBOMIRSKI         Kołobrzeg  Kraków Główny   \n",
       "92545  MPE 83152/3 LUBOMIRSKI         Kołobrzeg  Kraków Główny   \n",
       "92546  MPE 83152/3 LUBOMIRSKI         Kołobrzeg  Kraków Główny   \n",
       "92547  MPE 83152/3 LUBOMIRSKI         Kołobrzeg  Kraków Główny   \n",
       "\n",
       "             stacja_pomiaru   data czas_rozkladowy czas_przyjazdu  opoznienie  \n",
       "92538             Ciechanów  24.12           12:25          12:48        23.0  \n",
       "92539  Nowy Dwór Mazowiecki  24.12           12:56          13:25        29.0  \n",
       "92540             Legionowo  24.12           13:06          13:38        32.0  \n",
       "92541    Warszawa Wschodnia  24.12           13:21          13:55        34.0  \n",
       "92542    Warszawa Centralna  24.12           13:30          14:04        34.0  \n",
       "92543    Warszawa Zachodnia  24.12           14:00          14:26        26.0  \n",
       "92544      Opoczno Południe  24.12           15:08          15:49        41.0  \n",
       "92545     Włoszczowa Północ  24.12           15:41          16:28        47.0  \n",
       "92546               Miechów  24.12           16:18          16:58        40.0  \n",
       "92547         Kraków Główny  24.12           16:50          17:29        39.0  "
      ]
     },
     "execution_count": 38,
     "metadata": {},
     "output_type": "execute_result"
    }
   ],
   "source": [
    "df = pd.read_csv(\"D:\\studia\\sem6\\matematyka_dla_przemyslu\\projekt\\modelling-train-delays\\data\\Scrapping_03-12-23_12-10-44.csv\", na_values=\"--\")\n",
    "df[\"opoznienie\"].fillna(0);\n",
    "df.tail(10)"
   ]
  },
  {
   "cell_type": "code",
   "execution_count": 41,
   "metadata": {},
   "outputs": [
    {
     "data": {
      "text/plain": [
       "423"
      ]
     },
     "execution_count": 41,
     "metadata": {},
     "output_type": "execute_result"
    }
   ],
   "source": [
    "len(df[\"nazwa_pociagu\"].unique()) #ile pociagow, przeciwne kierunki liczone osobno"
   ]
  },
  {
   "cell_type": "code",
   "execution_count": 39,
   "metadata": {},
   "outputs": [
    {
     "data": {
      "text/plain": [
       "465"
      ]
     },
     "execution_count": 39,
     "metadata": {},
     "output_type": "execute_result"
    }
   ],
   "source": [
    "len(df[\"stacja_pomiaru\"].unique()) #ile stacji"
   ]
  },
  {
   "cell_type": "code",
   "execution_count": 35,
   "metadata": {},
   "outputs": [
    {
     "data": {
      "text/plain": [
       "441.0"
      ]
     },
     "execution_count": 35,
     "metadata": {},
     "output_type": "execute_result"
    }
   ],
   "source": [
    "max(df[\"opoznienie\"]) #max oponienie"
   ]
  },
  {
   "cell_type": "code",
   "execution_count": 40,
   "metadata": {},
   "outputs": [
    {
     "data": {
      "text/plain": [
       "-22.0"
      ]
     },
     "execution_count": 40,
     "metadata": {},
     "output_type": "execute_result"
    }
   ],
   "source": [
    "min(df[\"opoznienie\"]) # najmniejsze opoznienie, czyli jak szybko przed czasem"
   ]
  },
  {
   "cell_type": "code",
   "execution_count": 48,
   "metadata": {},
   "outputs": [
    {
     "ename": "TypeError",
     "evalue": "bar() missing 1 required positional argument: 'height'",
     "output_type": "error",
     "traceback": [
      "\u001b[1;31m---------------------------------------------------------------------------\u001b[0m",
      "\u001b[1;31mTypeError\u001b[0m                                 Traceback (most recent call last)",
      "\u001b[1;32m<ipython-input-48-e188ec34cc84>\u001b[0m in \u001b[0;36m<module>\u001b[1;34m\u001b[0m\n\u001b[1;32m----> 1\u001b[1;33m \u001b[0mplt\u001b[0m\u001b[1;33m.\u001b[0m\u001b[0mbar\u001b[0m\u001b[1;33m(\u001b[0m\u001b[0mdf\u001b[0m\u001b[1;33m[\u001b[0m\u001b[1;34m\"stacja_poczatkowa\"\u001b[0m\u001b[1;33m]\u001b[0m\u001b[1;33m)\u001b[0m\u001b[1;33m\u001b[0m\u001b[1;33m\u001b[0m\u001b[0m\n\u001b[0m",
      "\u001b[1;31mTypeError\u001b[0m: bar() missing 1 required positional argument: 'height'"
     ]
    }
   ],
   "source": []
  }
 ],
 "metadata": {
  "kernelspec": {
   "display_name": "Python 3",
   "language": "python",
   "name": "python3"
  },
  "language_info": {
   "codemirror_mode": {
    "name": "ipython",
    "version": 3
   },
   "file_extension": ".py",
   "mimetype": "text/x-python",
   "name": "python",
   "nbconvert_exporter": "python",
   "pygments_lexer": "ipython3",
   "version": "3.8.5"
  },
  "orig_nbformat": 4
 },
 "nbformat": 4,
 "nbformat_minor": 2
}
