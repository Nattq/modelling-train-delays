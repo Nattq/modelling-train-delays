{
 "cells": [
  {
   "cell_type": "code",
   "execution_count": 1,
   "metadata": {},
   "outputs": [
    {
     "name": "stderr",
     "output_type": "stream",
     "text": [
      "<frozen importlib._bootstrap>:219: RuntimeWarning: scipy._lib.messagestream.MessageStream size changed, may indicate binary incompatibility. Expected 56 from C header, got 64 from PyObject\n"
     ]
    }
   ],
   "source": [
    "import pandas as pd\n",
    "import numpy as np\n",
    "import matplotlib.pyplot as plt\n",
    "import seaborn as sns\n",
    "import pygad\n",
    "import sys"
   ]
  },
  {
   "cell_type": "markdown",
   "metadata": {},
   "source": [
    "### Algorytm Rungego-Kutty "
   ]
  },
  {
   "cell_type": "code",
   "execution_count": 2,
   "metadata": {},
   "outputs": [],
   "source": [
    "def rk4(f, s0, x0, xf, n, a, b):\n",
    "    x = np.linspace(x0, xf, n+1) #x grid\n",
    "    s = np.array((n+1)*[s0]) #array of the state of the sytem for each x\n",
    "    h = x[1] - x[0] #stepsize\n",
    "    for i in range(n):       #Fourth Order Runge Kutta Method\n",
    "        k0 = h * f(s[i], a, b) \n",
    "        k1= h * f(s[i] + 0.5 * k0, a, b)\n",
    "        k2 = h * f(s[i] + 0.5 * k1, a, b)\n",
    "        k3 = h * f(s[i] + k2, a, b)\n",
    "        s[i+1] = s[i] + (k0 + 2*(k1 + k2) + k3) / 6.\n",
    "    return x, s"
   ]
  },
  {
   "cell_type": "code",
   "execution_count": 3,
   "metadata": {},
   "outputs": [],
   "source": [
    "def f(u, a, b):\n",
    "    S,I,R = u\n",
    "    N = sum(u)\n",
    "    dS = -a*S*I  #dS/dt = -aS(t)I(t)\n",
    "    dI = a*S*I - b*I   #dI/dt = aS(t)I(t)-bI(t)\n",
    "    dR = b*I #dR/dt = bI(t)\n",
    "    return np.array([dS, dI, dR])"
   ]
  },
  {
   "cell_type": "code",
   "execution_count": 4,
   "metadata": {},
   "outputs": [],
   "source": [
    "a = 0.2\n",
    "b = 0.1\n",
    "x, s = rk4(f, np.array([235.0, 14.0, 0.0]), 0., 109., 109000, a, b)"
   ]
  },
  {
   "cell_type": "markdown",
   "metadata": {},
   "source": [
    "idk"
   ]
  },
  {
   "cell_type": "markdown",
   "metadata": {},
   "source": [
    " 𝑀 – the number of rows of vectors of\n",
    "experimental data of the sample?"
   ]
  },
  {
   "cell_type": "code",
   "execution_count": 5,
   "metadata": {},
   "outputs": [],
   "source": [
    "def cost():\n",
    "    return "
   ]
  },
  {
   "cell_type": "markdown",
   "metadata": {},
   "source": [
    "### Algorytm genetyczny - przykład"
   ]
  },
  {
   "cell_type": "markdown",
   "metadata": {},
   "source": [
    "Szukamy maksimum funkcji f(x, y) = - (x-7)^2 - exp(y^2)"
   ]
  },
  {
   "cell_type": "code",
   "execution_count": 6,
   "metadata": {},
   "outputs": [],
   "source": [
    "def fitness_func(solution, solution_idx):\n",
    "    return - (solution[0] - 7)**2 - np.exp(solution[1]**2)"
   ]
  },
  {
   "cell_type": "code",
   "execution_count": 7,
   "metadata": {},
   "outputs": [],
   "source": [
    "num_generations = 30\n",
    "num_parents_mating = 4\n",
    "\n",
    "sol_per_pop = 8\n",
    "num_genes = 2\n",
    "\n",
    "init_range_low = -10\n",
    "init_range_high = 10\n",
    "\n",
    "parent_selection_type = \"sss\"\n",
    "keep_parents = 1\n",
    "\n",
    "crossover_type = \"single_point\"\n",
    "\n",
    "mutation_type = \"random\"\n",
    "mutation_percent_genes = 10"
   ]
  },
  {
   "cell_type": "code",
   "execution_count": 8,
   "metadata": {},
   "outputs": [],
   "source": [
    "def on_generation(ga_instance):\n",
    "    print(\"Generation : \", ga_instance.generations_completed)\n",
    "    print(\"Fitness of the best solution :\", ga_instance.best_solution()[1])"
   ]
  },
  {
   "cell_type": "code",
   "execution_count": 9,
   "metadata": {},
   "outputs": [
    {
     "name": "stderr",
     "output_type": "stream",
     "text": [
      "C:\\ProgramData\\Anaconda3\\lib\\site-packages\\pygad\\pygad.py:522: UserWarning: The percentage of genes to mutate (mutation_percent_genes=10) resutled in selecting (0) genes. The number of genes to mutate is set to 1 (mutation_num_genes=1).\n",
      "If you do not want to mutate any gene, please set mutation_type=None.\n",
      "  if not self.suppress_warnings: warnings.warn(\"The percentage of genes to mutate (mutation_percent_genes={mutation_percent}) resutled in selecting ({mutation_num}) genes. The number of genes to mutate is set to 1 (mutation_num_genes=1).\\nIf you do not want to mutate any gene, please set mutation_type=None.\".format(mutation_percent=mutation_percent_genes, mutation_num=mutation_num_genes))\n"
     ]
    }
   ],
   "source": [
    "ga_instance = pygad.GA(num_generations = num_generations,\n",
    "                       num_parents_mating = num_parents_mating,\n",
    "                       fitness_func = fitness_func,\n",
    "                       sol_per_pop = sol_per_pop,\n",
    "                       num_genes = num_genes,\n",
    "                       init_range_low = init_range_low,\n",
    "                       init_range_high = init_range_high,\n",
    "                       parent_selection_type = parent_selection_type,\n",
    "                       keep_parents = keep_parents,\n",
    "                       crossover_type = crossover_type,\n",
    "                       mutation_type = mutation_type,\n",
    "                       mutation_percent_genes = mutation_percent_genes,\n",
    "                       on_generation = on_generation)"
   ]
  },
  {
   "cell_type": "code",
   "execution_count": 10,
   "metadata": {},
   "outputs": [
    {
     "name": "stdout",
     "output_type": "stream",
     "text": [
      "Generation :  1\n",
      "Fitness of the best solution : -23.066685033978555\n",
      "Generation :  2\n",
      "Fitness of the best solution : -13.810177089219444\n",
      "Generation :  3\n",
      "Fitness of the best solution : -11.011868657702362\n",
      "Generation :  4\n",
      "Fitness of the best solution : -6.395826632421473\n",
      "Generation :  5\n",
      "Fitness of the best solution : -5.075147181900812\n",
      "Generation :  6\n",
      "Fitness of the best solution : -5.075147181900812\n",
      "Generation :  7\n",
      "Fitness of the best solution : -2.953114793591279\n",
      "Generation :  8\n",
      "Fitness of the best solution : -2.7523471517533493\n",
      "Generation :  9\n",
      "Fitness of the best solution : -1.9400552575083507\n",
      "Generation :  10\n",
      "Fitness of the best solution : -1.2093890029398318\n",
      "Generation :  11\n",
      "Fitness of the best solution : -1.108259150691783\n",
      "Generation :  12\n",
      "Fitness of the best solution : -1.0618581728277916\n",
      "Generation :  13\n",
      "Fitness of the best solution : -1.0618581728277916\n",
      "Generation :  14\n",
      "Fitness of the best solution : -1.0541189463935217\n",
      "Generation :  15\n",
      "Fitness of the best solution : -1.0080372249637306\n",
      "Generation :  16\n",
      "Fitness of the best solution : -1.0080372249637306\n",
      "Generation :  17\n",
      "Fitness of the best solution : -1.0080372249637306\n",
      "Generation :  18\n",
      "Fitness of the best solution : -1.0080372249637306\n",
      "Generation :  19\n",
      "Fitness of the best solution : -1.000787508124883\n",
      "Generation :  20\n",
      "Fitness of the best solution : -1.000787508124883\n",
      "Generation :  21\n",
      "Fitness of the best solution : -1.000787508124883\n",
      "Generation :  22\n",
      "Fitness of the best solution : -1.000787508124883\n",
      "Generation :  23\n",
      "Fitness of the best solution : -1.000787508124883\n",
      "Generation :  24\n",
      "Fitness of the best solution : -1.000787508124883\n",
      "Generation :  25\n",
      "Fitness of the best solution : -1.000787508124883\n",
      "Generation :  26\n",
      "Fitness of the best solution : -1.000787508124883\n",
      "Generation :  27\n",
      "Fitness of the best solution : -1.000787508124883\n",
      "Generation :  28\n",
      "Fitness of the best solution : -1.000787508124883\n",
      "Generation :  29\n",
      "Fitness of the best solution : -1.000787508124883\n",
      "Generation :  30\n",
      "Fitness of the best solution : -1.000787508124883\n"
     ]
    }
   ],
   "source": [
    "ga_instance.run()"
   ]
  },
  {
   "cell_type": "code",
   "execution_count": 11,
   "metadata": {},
   "outputs": [
    {
     "data": {
      "image/png": "[encoded data removed]",
      "text/plain": [
       "<Figure size 432x288 with 1 Axes>"
      ]
     },
     "metadata": {
      "needs_background": "light"
     },
     "output_type": "display_data"
    }
   ],
   "source": [
    "ga_instance.plot_fitness();"
   ]
  },
  {
   "cell_type": "code",
   "execution_count": 12,
   "metadata": {},
   "outputs": [
    {
     "data": {
      "text/plain": [
       "(array([7.02755073e+00, 5.33527056e-03]), -1.000787508124883, 0)"
      ]
     },
     "execution_count": 12,
     "metadata": {},
     "output_type": "execute_result"
    }
   ],
   "source": [
    "ga_instance.best_solution() "
   ]
  },
  {
   "cell_type": "markdown",
   "metadata": {},
   "source": [
    "### Algorytm genetyczny - MAPE"
   ]
  },
  {
   "cell_type": "code",
   "execution_count": 13,
   "metadata": {},
   "outputs": [],
   "source": [
    "def MAPE(xs, ys): #average absolute error\n",
    "    return sum(abs(xs - ys)/xs)"
   ]
  },
  {
   "cell_type": "code",
   "execution_count": 14,
   "metadata": {},
   "outputs": [],
   "source": [
    "beta = 0.2\n",
    "gamma = 0.1\n",
    "x, data = rk4(f, np.array([235.0, 14.0, 0.0]), 0., 109., 109000, beta, gamma)\n",
    "I = np.array([x[1] for x in data])"
   ]
  },
  {
   "cell_type": "code",
   "execution_count": 18,
   "metadata": {},
   "outputs": [],
   "source": [
    "def fitness_func(solution, solution_idx): #solution = [beta, gamma]\n",
    "    if solution[0] > 1 or solution[0] < 0 or solution[1] > 1 or solution[1] < 0:\n",
    "        return -sys.maxsize - 1\n",
    "    else:\n",
    "        x, s = rk4(f, np.array([235.0, 14.0, 0.0]), 0., 109., 109000, solution[0], solution[1])\n",
    "        I_m = np.array([x[1] for x in s])\n",
    "        return -MAPE(I, I_m) #albo -MAPE(I_m, I)"
   ]
  },
  {
   "cell_type": "code",
   "execution_count": 19,
   "metadata": {},
   "outputs": [],
   "source": [
    "ga_instance = pygad.GA(num_generations = 10,\n",
    "                       num_parents_mating = num_parents_mating,\n",
    "                       fitness_func = fitness_func,\n",
    "                       sol_per_pop = sol_per_pop,\n",
    "                       num_genes = num_genes,\n",
    "                       init_range_low = 0,\n",
    "                       init_range_high = 1,\n",
    "                       parent_selection_type = parent_selection_type,\n",
    "                       keep_parents = keep_parents,\n",
    "                       crossover_type = crossover_type,\n",
    "                       mutation_type = mutation_type,\n",
    "                       mutation_percent_genes = mutation_percent_genes,\n",
    "                       on_generation = on_generation)"
   ]
  },
  {
   "cell_type": "code",
   "execution_count": 20,
   "metadata": {},
   "outputs": [
    {
     "name": "stdout",
     "output_type": "stream",
     "text": [
      "Generation :  1\n",
      "Fitness of the best solution : -101919.87288624464\n",
      "Generation :  2\n",
      "Fitness of the best solution : -101919.87288624464\n",
      "Generation :  3\n",
      "Fitness of the best solution : -101919.87288624464\n",
      "Generation :  4\n",
      "Fitness of the best solution : -101919.87288624464\n",
      "Generation :  5\n",
      "Fitness of the best solution : -101919.87288624464\n",
      "Generation :  6\n",
      "Fitness of the best solution : -101862.92445949148\n",
      "Generation :  7\n",
      "Fitness of the best solution : -101862.92445949148\n",
      "Generation :  8\n",
      "Fitness of the best solution : -101862.92445949148\n",
      "Generation :  9\n",
      "Fitness of the best solution : -99450.09789083556\n",
      "Generation :  10\n",
      "Fitness of the best solution : -99450.09789083556\n"
     ]
    }
   ],
   "source": [
    "ga_instance.run()"
   ]
  },
  {
   "cell_type": "code",
   "execution_count": 21,
   "metadata": {},
   "outputs": [
    {
     "data": {
      "image/png": "[encoded data removed]",
      "text/plain": [
       "<Figure size 432x288 with 1 Axes>"
      ]
     },
     "metadata": {
      "needs_background": "light"
     },
     "output_type": "display_data"
    }
   ],
   "source": [
    "ga_instance.plot_fitness();"
   ]
  },
  {
   "cell_type": "code",
   "execution_count": null,
   "metadata": {},
   "outputs": [],
   "source": [
    "ga_instance.best_solution() "
   ]
  },
  {
   "cell_type": "code",
   "execution_count": null,
   "metadata": {},
   "outputs": [],
   "source": []
  }
 ],
 "metadata": {
  "kernelspec": {
   "display_name": "Python 3",
   "language": "python",
   "name": "python3"
  },
  "language_info": {
   "codemirror_mode": {
    "name": "ipython",
    "version": 3
   },
   "file_extension": ".py",
   "mimetype": "text/x-python",
   "name": "python",
   "nbconvert_exporter": "python",
   "pygments_lexer": "ipython3",
   "version": "3.8.5"
  }
 },
 "nbformat": 4,
 "nbformat_minor": 4
}
