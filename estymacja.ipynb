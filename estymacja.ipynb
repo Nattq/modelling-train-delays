{
 "cells": [
  {
   "cell_type": "code",
   "execution_count": 46,
   "metadata": {},
   "outputs": [],
   "source": [
    "import pandas as pd\n",
    "import numpy as np\n",
    "import matplotlib.pyplot as plt\n",
    "import seaborn as sns\n",
    "import pygad\n",
    "import sys"
   ]
  },
  {
   "cell_type": "markdown",
   "metadata": {},
   "source": [
    "### Algorytm Rungego-Kutty "
   ]
  },
  {
   "cell_type": "code",
   "execution_count": 2,
   "metadata": {},
   "outputs": [],
   "source": [
    "def rk4(f, s0, x0, xf, n, a, b):\n",
    "    x = np.linspace(x0, xf, n+1) #x grid\n",
    "    s = np.array((n+1)*[s0]) #array of the state of the sytem for each x\n",
    "    h = x[1] - x[0] #stepsize\n",
    "    for i in range(n):       #Fourth Order Runge Kutta Method\n",
    "        k0 = h * f(s[i], a, b) \n",
    "        k1= h * f(s[i] + 0.5 * k0, a, b)\n",
    "        k2 = h * f(s[i] + 0.5 * k1, a, b)\n",
    "        k3 = h * f(s[i] + k2, a, b)\n",
    "        s[i+1] = s[i] + (k0 + 2*(k1 + k2) + k3) / 6.\n",
    "    return x, s"
   ]
  },
  {
   "cell_type": "code",
   "execution_count": 77,
   "metadata": {},
   "outputs": [],
   "source": [
    "def f(u, a, b):\n",
    "    S,I,R = u\n",
    "    N = sum(u)\n",
    "    dS = -a*S*I  #dS/dt = -aS(t)I(t)\n",
    "    dI = a*S*I - b*I   #dI/dt = aS(t)I(t)-bI(t)\n",
    "    dR = b*I #dR/dt = bI(t)\n",
    "    return np.array([dS, dI, dR])"
   ]
  },
  {
   "cell_type": "code",
   "execution_count": 78,
   "metadata": {},
   "outputs": [],
   "source": [
    "a = 0.2\n",
    "b = 0.1\n",
    "x, s = rk4(f, np.array([235.0, 14.0, 0.0]), 0., 109., 109000, a, b)"
   ]
  },
  {
   "cell_type": "markdown",
   "metadata": {},
   "source": [
    "idk"
   ]
  },
  {
   "cell_type": "markdown",
   "metadata": {},
   "source": [
    " 𝑀 – the number of rows of vectors of\n",
    "experimental data of the sample?"
   ]
  },
  {
   "cell_type": "code",
   "execution_count": 79,
   "metadata": {},
   "outputs": [],
   "source": [
    "def cost():\n",
    "    return "
   ]
  },
  {
   "cell_type": "markdown",
   "metadata": {},
   "source": [
    "### Algorytm genetyczny - przykład"
   ]
  },
  {
   "cell_type": "markdown",
   "metadata": {},
   "source": [
    "Szukamy maksimum funkcji f(x, y) = - (x-7)^2 - exp(y^2)"
   ]
  },
  {
   "cell_type": "code",
   "execution_count": 80,
   "metadata": {},
   "outputs": [],
   "source": [
    "def fitness_func(solution, solution_idx):\n",
    "    return - (solution[0] - 7)**2 - np.exp(solution[1]**2)"
   ]
  },
  {
   "cell_type": "code",
   "execution_count": 81,
   "metadata": {},
   "outputs": [],
   "source": [
    "num_generations = 30\n",
    "num_parents_mating = 4\n",
    "\n",
    "sol_per_pop = 8\n",
    "num_genes = 2\n",
    "\n",
    "init_range_low = -10\n",
    "init_range_high = 10\n",
    "\n",
    "parent_selection_type = \"sss\"\n",
    "keep_parents = 1\n",
    "\n",
    "crossover_type = \"single_point\"\n",
    "\n",
    "mutation_type = \"random\"\n",
    "mutation_percent_genes = 10"
   ]
  },
  {
   "cell_type": "code",
   "execution_count": 82,
   "metadata": {},
   "outputs": [],
   "source": [
    "def on_generation(ga_instance):\n",
    "    print(\"Generation : \", ga_instance.generations_completed)\n",
    "    print(\"Fitness of the best solution :\", ga_instance.best_solution()[1])"
   ]
  },
  {
   "cell_type": "code",
   "execution_count": 83,
   "metadata": {},
   "outputs": [],
   "source": [
    "ga_instance = pygad.GA(num_generations = num_generations,\n",
    "                       num_parents_mating = num_parents_mating,\n",
    "                       fitness_func = fitness_func,\n",
    "                       sol_per_pop = sol_per_pop,\n",
    "                       num_genes = num_genes,\n",
    "                       init_range_low = init_range_low,\n",
    "                       init_range_high = init_range_high,\n",
    "                       parent_selection_type = parent_selection_type,\n",
    "                       keep_parents = keep_parents,\n",
    "                       crossover_type = crossover_type,\n",
    "                       mutation_type = mutation_type,\n",
    "                       mutation_percent_genes = mutation_percent_genes,\n",
    "                       on_generation = on_generation)"
   ]
  },
  {
   "cell_type": "code",
   "execution_count": 84,
   "metadata": {},
   "outputs": [
    {
     "name": "stdout",
     "output_type": "stream",
     "text": [
      "Generation :  1\n",
      "Fitness of the best solution : -23.109456283906542\n",
      "Generation :  2\n",
      "Fitness of the best solution : -8.59974191384883\n",
      "Generation :  3\n",
      "Fitness of the best solution : -6.571537020083787\n",
      "Generation :  4\n",
      "Fitness of the best solution : -6.571537020083787\n",
      "Generation :  5\n",
      "Fitness of the best solution : -4.9725965942392065\n",
      "Generation :  6\n",
      "Fitness of the best solution : -4.903667284508916\n",
      "Generation :  7\n",
      "Fitness of the best solution : -2.500832820609117\n",
      "Generation :  8\n",
      "Fitness of the best solution : -1.5170505895728412\n",
      "Generation :  9\n",
      "Fitness of the best solution : -1.5170505895728412\n",
      "Generation :  10\n",
      "Fitness of the best solution : -1.5170505895728412\n",
      "Generation :  11\n",
      "Fitness of the best solution : -1.2867477354446049\n",
      "Generation :  12\n",
      "Fitness of the best solution : -1.0284448521331948\n",
      "Generation :  13\n",
      "Fitness of the best solution : -1.0284448521331948\n",
      "Generation :  14\n",
      "Fitness of the best solution : -1.0284448521331948\n",
      "Generation :  15\n",
      "Fitness of the best solution : -1.0284448521331948\n",
      "Generation :  16\n",
      "Fitness of the best solution : -1.0284448521331948\n",
      "Generation :  17\n",
      "Fitness of the best solution : -1.0284448521331948\n",
      "Generation :  18\n",
      "Fitness of the best solution : -1.0284448521331948\n",
      "Generation :  19\n",
      "Fitness of the best solution : -1.0284448521331948\n",
      "Generation :  20\n",
      "Fitness of the best solution : -1.0284448521331948\n",
      "Generation :  21\n",
      "Fitness of the best solution : -1.0060997361511559\n",
      "Generation :  22\n",
      "Fitness of the best solution : -1.002249669101521\n",
      "Generation :  23\n",
      "Fitness of the best solution : -1.002249669101521\n",
      "Generation :  24\n",
      "Fitness of the best solution : -1.002249669101521\n",
      "Generation :  25\n",
      "Fitness of the best solution : -1.0019493472201206\n",
      "Generation :  26\n",
      "Fitness of the best solution : -1.0019493472201206\n",
      "Generation :  27\n",
      "Fitness of the best solution : -1.0019493472201206\n",
      "Generation :  28\n",
      "Fitness of the best solution : -1.0019493472201206\n",
      "Generation :  29\n",
      "Fitness of the best solution : -1.0019493472201206\n",
      "Generation :  30\n",
      "Fitness of the best solution : -1.0019493472201206\n"
     ]
    }
   ],
   "source": [
    "ga_instance.run()"
   ]
  },
  {
   "cell_type": "code",
   "execution_count": 85,
   "metadata": {},
   "outputs": [
    {
     "data": {
      "image/png": "[encoded data removed]",
      "text/plain": [
       "<Figure size 432x288 with 1 Axes>"
      ]
     },
     "metadata": {
      "needs_background": "light"
     },
     "output_type": "display_data"
    }
   ],
   "source": [
    "ga_instance.plot_fitness();"
   ]
  },
  {
   "cell_type": "code",
   "execution_count": 86,
   "metadata": {},
   "outputs": [
    {
     "data": {
      "text/plain": [
       "(array([ 7.04151364, -0.01503129]), -1.0019493472201206, 0)"
      ]
     },
     "execution_count": 86,
     "metadata": {},
     "output_type": "execute_result"
    }
   ],
   "source": [
    "ga_instance.best_solution() "
   ]
  },
  {
   "cell_type": "markdown",
   "metadata": {},
   "source": [
    "### Algorytm genetyczny - MAPE"
   ]
  },
  {
   "cell_type": "code",
   "execution_count": 87,
   "metadata": {},
   "outputs": [],
   "source": [
    "def MAPE(xs, ys): #average absolute error\n",
    "    return sum(abs(xs - ys)/xs)"
   ]
  },
  {
   "cell_type": "code",
   "execution_count": 88,
   "metadata": {},
   "outputs": [],
   "source": [
    "beta = 0.2\n",
    "gamma = 0.1\n",
    "x, data = rk4(f, np.array([235.0, 14.0, 0.0]), 0., 109., 109000, beta, gamma)\n",
    "I = np.array([x[1] for x in data])"
   ]
  },
  {
   "cell_type": "code",
   "execution_count": 89,
   "metadata": {},
   "outputs": [],
   "source": [
    "def fitness_func(solution, solution_idx): #solution = [beta, gamma]\n",
    "    if solution[0] > 1 or solution[0] < 0 or solution[1] > 1 or solu < 0:\n",
    "        return -sys.maxsize - 1\n",
    "    else:\n",
    "        x, s = rk4(f, np.array([235.0, 14.0, 0.0]), 0., 109., 109000, solution[0], solution[1])\n",
    "        I_m = np.array([x[1] for x in s])\n",
    "        return -MAPE(I, I_m) #albo -MAPE(I_m, I)"
   ]
  },
  {
   "cell_type": "code",
   "execution_count": 90,
   "metadata": {},
   "outputs": [],
   "source": [
    "ga_instance = pygad.GA(num_generations = 10,\n",
    "                       num_parents_mating = num_parents_mating,\n",
    "                       fitness_func = fitness_func,\n",
    "                       sol_per_pop = sol_per_pop,\n",
    "                       num_genes = num_genes,\n",
    "                       init_range_low = 0,\n",
    "                       init_range_high = 1,\n",
    "                       parent_selection_type = parent_selection_type,\n",
    "                       keep_parents = keep_parents,\n",
    "                       crossover_type = crossover_type,\n",
    "                       mutation_type = mutation_type,\n",
    "                       mutation_percent_genes = mutation_percent_genes,\n",
    "                       on_generation = on_generation)"
   ]
  },
  {
   "cell_type": "code",
   "execution_count": null,
   "metadata": {},
   "outputs": [
    {
     "name": "stdout",
     "output_type": "stream",
     "text": [
      "Generation :  1\n",
      "Fitness of the best solution : -2213.159746941128\n",
      "Generation :  2\n",
      "Fitness of the best solution : -2213.159746941128\n",
      "Generation :  3\n",
      "Fitness of the best solution : -2213.159746941128\n",
      "Generation :  4\n",
      "Fitness of the best solution : -2213.159746941128\n",
      "Generation :  5\n",
      "Fitness of the best solution : -2213.159746941128\n"
     ]
    }
   ],
   "source": [
    "ga_instance.run()"
   ]
  },
  {
   "cell_type": "code",
   "execution_count": null,
   "metadata": {},
   "outputs": [],
   "source": [
    "ga_instance.plot_fitness();"
   ]
  },
  {
   "cell_type": "code",
   "execution_count": null,
   "metadata": {},
   "outputs": [],
   "source": [
    "ga_instance.best_solution() "
   ]
  },
  {
   "cell_type": "code",
   "execution_count": null,
   "metadata": {},
   "outputs": [],
   "source": []
  }
 ],
 "metadata": {
  "kernelspec": {
   "display_name": "Python 3",
   "language": "python",
   "name": "python3"
  },
  "language_info": {
   "codemirror_mode": {
    "name": "ipython",
    "version": 3
   },
   "file_extension": ".py",
   "mimetype": "text/x-python",
   "name": "python",
   "nbconvert_exporter": "python",
   "pygments_lexer": "ipython3",
   "version": "3.8.5"
  }
 },
 "nbformat": 4,
 "nbformat_minor": 4
}
