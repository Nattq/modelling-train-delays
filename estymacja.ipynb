{
 "cells": [
  {
   "cell_type": "markdown",
   "metadata": {},
   "source": [
    "jakieś dane"
   ]
  },
  {
   "cell_type": "code",
   "execution_count": 5,
   "metadata": {},
   "outputs": [],
   "source": [
    "import pandas as pd\n",
    "import numpy as np"
   ]
  },
  {
   "cell_type": "code",
   "execution_count": null,
   "metadata": {},
   "outputs": [],
   "source": []
  },
  {
   "cell_type": "markdown",
   "metadata": {},
   "source": [
    "Runge-kutta 4 rzędu"
   ]
  },
  {
   "cell_type": "code",
   "execution_count": 17,
   "metadata": {},
   "outputs": [],
   "source": [
    "def rk4(f, s0, x0, xf, n, a, b):\n",
    "    x = np.linspace(x0, xf, n+1) #x grid\n",
    "    s = np.array((n+1)*[s0]) #array of the state of the sytem for each x\n",
    "    h = x[1] - x[0] #stepsize\n",
    "    for i in range(n):       #Fourth Order Runge Kutta Method\n",
    "        k0 = h * f(s[i], a, b) \n",
    "        k1= h * f(s[i] + 0.5 * k0, a, b)\n",
    "        k2 = h * f(s[i] + 0.5 * k1, a, b)\n",
    "        k3 = h * f(s[i] + k2, a, b)\n",
    "        s[i+1] = s[i] + (k0 + 2*(k1 + k2) + k3) / 6.\n",
    "    return x, s"
   ]
  },
  {
   "cell_type": "code",
   "execution_count": 18,
   "metadata": {},
   "outputs": [],
   "source": [
    "def f(u, a, b):\n",
    "    S,I,R = u\n",
    "    N = sum(u)\n",
    "    dS = -a*S*I/N  #dY/dt = -aS(t)I(t)\n",
    "    dI = a*S*I/N - b*I   #dI/dt = aS(t)I(t)-bI(t)\n",
    "    dR = b*I #dR/dt = bI(t)\n",
    "    return np.array([dS, dI, dR])"
   ]
  },
  {
   "cell_type": "code",
   "execution_count": 20,
   "metadata": {},
   "outputs": [],
   "source": [
    "a = 0.2\n",
    "b = 0.1\n",
    "x, s = rk4(f, np.array([235.0, 14.0, 0.0]), 0., 109., 109000, a, b)"
   ]
  },
  {
   "cell_type": "markdown",
   "metadata": {},
   "source": [
    "idk"
   ]
  },
  {
   "cell_type": "markdown",
   "metadata": {},
   "source": [
    " 𝑀 – the number of rows of vectors of\n",
    "experimental data of the sample?"
   ]
  },
  {
   "cell_type": "code",
   "execution_count": null,
   "metadata": {},
   "outputs": [],
   "source": [
    "def cost():\n",
    "    return "
   ]
  }
 ],
 "metadata": {
  "kernelspec": {
   "display_name": "Python 3",
   "language": "python",
   "name": "python3"
  },
  "language_info": {
   "codemirror_mode": {
    "name": "ipython",
    "version": 3
   },
   "file_extension": ".py",
   "mimetype": "text/x-python",
   "name": "python",
   "nbconvert_exporter": "python",
   "pygments_lexer": "ipython3",
   "version": "3.8.5"
  }
 },
 "nbformat": 4,
 "nbformat_minor": 4
}
