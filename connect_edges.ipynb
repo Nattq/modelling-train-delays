{
 "cells": [
  {
   "cell_type": "code",
   "execution_count": 2,
   "metadata": {},
   "outputs": [],
   "source": [
    "import matplotlib.pyplot as plt\n",
    "import numpy as np\n",
    "import pandas as pd\n",
    "\n",
    "import json\n",
    "import re\n",
    "import ssl\n",
    "\n",
    "import certifi\n",
    "import networkx as nx"
   ]
  },
  {
   "cell_type": "code",
   "execution_count": 5,
   "metadata": {},
   "outputs": [],
   "source": [
    "df = pd.read_csv(\"data/connections_test2.csv\",encoding=\"utf-8-sig\")"
   ]
  },
  {
   "cell_type": "code",
   "execution_count": 10,
   "metadata": {},
   "outputs": [
    {
     "data": {
      "text/html": [
       "<div>\n",
       "<style scoped>\n",
       "    .dataframe tbody tr th:only-of-type {\n",
       "        vertical-align: middle;\n",
       "    }\n",
       "\n",
       "    .dataframe tbody tr th {\n",
       "        vertical-align: top;\n",
       "    }\n",
       "\n",
       "    .dataframe thead th {\n",
       "        text-align: right;\n",
       "    }\n",
       "</style>\n",
       "<table border=\"1\" class=\"dataframe\">\n",
       "  <thead>\n",
       "    <tr style=\"text-align: right;\">\n",
       "      <th></th>\n",
       "      <th>Unnamed: 0</th>\n",
       "      <th>nazwa_pociagu</th>\n",
       "      <th>stacja_wyjazdu</th>\n",
       "      <th>stacja_przyjazdu</th>\n",
       "      <th>data</th>\n",
       "      <th>czas_rozkladowy</th>\n",
       "      <th>opoznienie</th>\n",
       "      <th>opoznienie_netto</th>\n",
       "    </tr>\n",
       "  </thead>\n",
       "  <tbody>\n",
       "    <tr>\n",
       "      <th>71223</th>\n",
       "      <td>28555</td>\n",
       "      <td>MPS 88105 ZAMOYSKI</td>\n",
       "      <td>Wieleń</td>\n",
       "      <td>Krzyż</td>\n",
       "      <td>24.03</td>\n",
       "      <td>18:32</td>\n",
       "      <td>10.0</td>\n",
       "      <td>0.0</td>\n",
       "    </tr>\n",
       "    <tr>\n",
       "      <th>71224</th>\n",
       "      <td>28556</td>\n",
       "      <td>MPS 88105 ZAMOYSKI</td>\n",
       "      <td>Krzyż</td>\n",
       "      <td>Nowe Drezdenko</td>\n",
       "      <td>24.03</td>\n",
       "      <td>18:44</td>\n",
       "      <td>10.0</td>\n",
       "      <td>0.0</td>\n",
       "    </tr>\n",
       "    <tr>\n",
       "      <th>71225</th>\n",
       "      <td>28557</td>\n",
       "      <td>MPS 88105 ZAMOYSKI</td>\n",
       "      <td>Nowe Drezdenko</td>\n",
       "      <td>Strzelce Krajeńskie Wschód</td>\n",
       "      <td>24.03</td>\n",
       "      <td>18:59</td>\n",
       "      <td>10.0</td>\n",
       "      <td>0.0</td>\n",
       "    </tr>\n",
       "    <tr>\n",
       "      <th>71226</th>\n",
       "      <td>28558</td>\n",
       "      <td>MPS 88105 ZAMOYSKI</td>\n",
       "      <td>Strzelce Krajeńskie Wschód</td>\n",
       "      <td>Gorzów Wielkopolski Wschodni</td>\n",
       "      <td>24.03</td>\n",
       "      <td>19:24</td>\n",
       "      <td>10.0</td>\n",
       "      <td>0.0</td>\n",
       "    </tr>\n",
       "    <tr>\n",
       "      <th>71227</th>\n",
       "      <td>28559</td>\n",
       "      <td>MPS 88105 ZAMOYSKI</td>\n",
       "      <td>Gorzów Wielkopolski Wschodni</td>\n",
       "      <td>Gorzów Wielkopolski</td>\n",
       "      <td>24.03</td>\n",
       "      <td>19:30</td>\n",
       "      <td>8.0</td>\n",
       "      <td>-2.0</td>\n",
       "    </tr>\n",
       "  </tbody>\n",
       "</table>\n",
       "</div>"
      ],
      "text/plain": [
       "       Unnamed: 0       nazwa_pociagu                stacja_wyjazdu  \\\n",
       "71223       28555  MPS 88105 ZAMOYSKI                        Wieleń   \n",
       "71224       28556  MPS 88105 ZAMOYSKI                         Krzyż   \n",
       "71225       28557  MPS 88105 ZAMOYSKI                Nowe Drezdenko   \n",
       "71226       28558  MPS 88105 ZAMOYSKI    Strzelce Krajeńskie Wschód   \n",
       "71227       28559  MPS 88105 ZAMOYSKI  Gorzów Wielkopolski Wschodni   \n",
       "\n",
       "                   stacja_przyjazdu   data czas_rozkladowy  opoznienie  \\\n",
       "71223                         Krzyż  24.03           18:32        10.0   \n",
       "71224                Nowe Drezdenko  24.03           18:44        10.0   \n",
       "71225    Strzelce Krajeńskie Wschód  24.03           18:59        10.0   \n",
       "71226  Gorzów Wielkopolski Wschodni  24.03           19:24        10.0   \n",
       "71227           Gorzów Wielkopolski  24.03           19:30         8.0   \n",
       "\n",
       "       opoznienie_netto  \n",
       "71223               0.0  \n",
       "71224               0.0  \n",
       "71225               0.0  \n",
       "71226               0.0  \n",
       "71227              -2.0  "
      ]
     },
     "execution_count": 10,
     "metadata": {},
     "output_type": "execute_result"
    }
   ],
   "source": [
    "df.tail()"
   ]
  },
  {
   "cell_type": "code",
   "execution_count": 11,
   "metadata": {},
   "outputs": [],
   "source": [
    "# szukanie nodes (nadanie)\n",
    "#połączenie krawędzi na stacjach, które się rozgałęziają\n",
    "#nadanie im nazwy <stacja początkowa _ stacja końcowa>\n"
   ]
  },
  {
   "cell_type": "code",
   "execution_count": 25,
   "metadata": {},
   "outputs": [],
   "source": [
    "# szukanie większych nodesów\n",
    "#(jeśli stacje się powtarzają, to są nodesami)\n",
    "\n",
    "#niepotrzebne na ten moment\n",
    "# start = df[\"stacja_wyjazdu\"]\n",
    "# start_unique =pd.DataFrame(df[\"stacja_wyjazdu\"].unique())\n",
    "# start_unique.rename(columns={0:\"start\"})\n",
    "# start_unique[\"ilosc\"] = 0"
   ]
  },
  {
   "cell_type": "code",
   "execution_count": 6,
   "metadata": {},
   "outputs": [],
   "source": [
    "# len(start_unique), len(start)\n",
    "# start_unique\n",
    "unique_connections = df[['stacja_wyjazdu','stacja_przyjazdu']].drop_duplicates()"
   ]
  },
  {
   "cell_type": "code",
   "execution_count": 7,
   "metadata": {},
   "outputs": [
    {
     "data": {
      "text/html": [
       "<div>\n",
       "<style scoped>\n",
       "    .dataframe tbody tr th:only-of-type {\n",
       "        vertical-align: middle;\n",
       "    }\n",
       "\n",
       "    .dataframe tbody tr th {\n",
       "        vertical-align: top;\n",
       "    }\n",
       "\n",
       "    .dataframe thead th {\n",
       "        text-align: right;\n",
       "    }\n",
       "</style>\n",
       "<table border=\"1\" class=\"dataframe\">\n",
       "  <thead>\n",
       "    <tr style=\"text-align: right;\">\n",
       "      <th></th>\n",
       "      <th>stacja_wyjazdu</th>\n",
       "      <th>stacja_przyjazdu</th>\n",
       "    </tr>\n",
       "  </thead>\n",
       "  <tbody>\n",
       "    <tr>\n",
       "      <th>0</th>\n",
       "      <td>Warszawa Wschodnia</td>\n",
       "      <td>Warszawa Centralna</td>\n",
       "    </tr>\n",
       "    <tr>\n",
       "      <th>1</th>\n",
       "      <td>Warszawa Centralna</td>\n",
       "      <td>Warszawa Zachodnia</td>\n",
       "    </tr>\n",
       "    <tr>\n",
       "      <th>2</th>\n",
       "      <td>Warszawa Zachodnia</td>\n",
       "      <td>Grodzisk Mazowiecki</td>\n",
       "    </tr>\n",
       "    <tr>\n",
       "      <th>3</th>\n",
       "      <td>Grodzisk Mazowiecki</td>\n",
       "      <td>Opoczno Południe</td>\n",
       "    </tr>\n",
       "    <tr>\n",
       "      <th>4</th>\n",
       "      <td>Opoczno Południe</td>\n",
       "      <td>Włoszczowa Północ</td>\n",
       "    </tr>\n",
       "    <tr>\n",
       "      <th>5</th>\n",
       "      <td>Włoszczowa Północ</td>\n",
       "      <td>Zawiercie</td>\n",
       "    </tr>\n",
       "    <tr>\n",
       "      <th>6</th>\n",
       "      <td>Zawiercie</td>\n",
       "      <td>Dąbrowa Górnicza</td>\n",
       "    </tr>\n",
       "    <tr>\n",
       "      <th>7</th>\n",
       "      <td>Dąbrowa Górnicza</td>\n",
       "      <td>Sosnowiec Główny</td>\n",
       "    </tr>\n",
       "    <tr>\n",
       "      <th>8</th>\n",
       "      <td>Sosnowiec Główny</td>\n",
       "      <td>Katowice</td>\n",
       "    </tr>\n",
       "    <tr>\n",
       "      <th>9</th>\n",
       "      <td>Katowice</td>\n",
       "      <td>Tychy</td>\n",
       "    </tr>\n",
       "    <tr>\n",
       "      <th>10</th>\n",
       "      <td>Tychy</td>\n",
       "      <td>Rybnik</td>\n",
       "    </tr>\n",
       "    <tr>\n",
       "      <th>11</th>\n",
       "      <td>Rybnik</td>\n",
       "      <td>Wodzisław Śląski</td>\n",
       "    </tr>\n",
       "    <tr>\n",
       "      <th>12</th>\n",
       "      <td>Wodzisław Śląski</td>\n",
       "      <td>Chałupki</td>\n",
       "    </tr>\n",
       "    <tr>\n",
       "      <th>13</th>\n",
       "      <td>Chałupki</td>\n",
       "      <td>Bohumin</td>\n",
       "    </tr>\n",
       "    <tr>\n",
       "      <th>170</th>\n",
       "      <td>Warszawa Zachodnia</td>\n",
       "      <td>Zawiercie</td>\n",
       "    </tr>\n",
       "    <tr>\n",
       "      <th>171</th>\n",
       "      <td>Zawiercie</td>\n",
       "      <td>Sosnowiec Główny</td>\n",
       "    </tr>\n",
       "    <tr>\n",
       "      <th>174</th>\n",
       "      <td>Tychy</td>\n",
       "      <td>Pszczyna</td>\n",
       "    </tr>\n",
       "    <tr>\n",
       "      <th>175</th>\n",
       "      <td>Pszczyna</td>\n",
       "      <td>Zebrzydowice</td>\n",
       "    </tr>\n",
       "    <tr>\n",
       "      <th>176</th>\n",
       "      <td>Zebrzydowice</td>\n",
       "      <td>Petrovice u Karvine</td>\n",
       "    </tr>\n",
       "    <tr>\n",
       "      <th>276</th>\n",
       "      <td>Terespol</td>\n",
       "      <td>Biała Podlaska</td>\n",
       "    </tr>\n",
       "  </tbody>\n",
       "</table>\n",
       "</div>"
      ],
      "text/plain": [
       "          stacja_wyjazdu     stacja_przyjazdu\n",
       "0     Warszawa Wschodnia   Warszawa Centralna\n",
       "1     Warszawa Centralna   Warszawa Zachodnia\n",
       "2     Warszawa Zachodnia  Grodzisk Mazowiecki\n",
       "3    Grodzisk Mazowiecki     Opoczno Południe\n",
       "4       Opoczno Południe    Włoszczowa Północ\n",
       "5      Włoszczowa Północ            Zawiercie\n",
       "6              Zawiercie     Dąbrowa Górnicza\n",
       "7       Dąbrowa Górnicza     Sosnowiec Główny\n",
       "8       Sosnowiec Główny             Katowice\n",
       "9               Katowice                Tychy\n",
       "10                 Tychy               Rybnik\n",
       "11                Rybnik     Wodzisław Śląski\n",
       "12      Wodzisław Śląski             Chałupki\n",
       "13              Chałupki              Bohumin\n",
       "170   Warszawa Zachodnia            Zawiercie\n",
       "171            Zawiercie     Sosnowiec Główny\n",
       "174                Tychy             Pszczyna\n",
       "175             Pszczyna         Zebrzydowice\n",
       "176         Zebrzydowice  Petrovice u Karvine\n",
       "276             Terespol       Biała Podlaska"
      ]
     },
     "execution_count": 7,
     "metadata": {},
     "output_type": "execute_result"
    }
   ],
   "source": [
    "unique_connections.head(20)"
   ]
  },
  {
   "cell_type": "code",
   "execution_count": 8,
   "metadata": {},
   "outputs": [],
   "source": [
    "# start_count = unique_connections.pivot_table(index = ['stacja_wyjazdu'], aggfunc ={'stacja_przyjazdu':'count'})\n",
    "start_count = pd.pivot_table(unique_connections, index = ['stacja_wyjazdu'], aggfunc ={'stacja_przyjazdu':'count'}).reset_index()"
   ]
  },
  {
   "cell_type": "code",
   "execution_count": 9,
   "metadata": {},
   "outputs": [
    {
     "data": {
      "text/html": [
       "<div>\n",
       "<style scoped>\n",
       "    .dataframe tbody tr th:only-of-type {\n",
       "        vertical-align: middle;\n",
       "    }\n",
       "\n",
       "    .dataframe tbody tr th {\n",
       "        vertical-align: top;\n",
       "    }\n",
       "\n",
       "    .dataframe thead th {\n",
       "        text-align: right;\n",
       "    }\n",
       "</style>\n",
       "<table border=\"1\" class=\"dataframe\">\n",
       "  <thead>\n",
       "    <tr style=\"text-align: right;\">\n",
       "      <th></th>\n",
       "      <th>stacja_wyjazdu</th>\n",
       "      <th>stacja_przyjazdu</th>\n",
       "    </tr>\n",
       "  </thead>\n",
       "  <tbody>\n",
       "    <tr>\n",
       "      <th>0</th>\n",
       "      <td>Aleksandrów Kujawski</td>\n",
       "      <td>2</td>\n",
       "    </tr>\n",
       "    <tr>\n",
       "      <th>1</th>\n",
       "      <td>Augustów</td>\n",
       "      <td>2</td>\n",
       "    </tr>\n",
       "    <tr>\n",
       "      <th>2</th>\n",
       "      <td>Babiak</td>\n",
       "      <td>2</td>\n",
       "    </tr>\n",
       "    <tr>\n",
       "      <th>3</th>\n",
       "      <td>Babimost</td>\n",
       "      <td>2</td>\n",
       "    </tr>\n",
       "    <tr>\n",
       "      <th>4</th>\n",
       "      <td>Baciuty</td>\n",
       "      <td>3</td>\n",
       "    </tr>\n",
       "    <tr>\n",
       "      <th>...</th>\n",
       "      <td>...</td>\n",
       "      <td>...</td>\n",
       "    </tr>\n",
       "    <tr>\n",
       "      <th>415</th>\n",
       "      <td>Żary</td>\n",
       "      <td>2</td>\n",
       "    </tr>\n",
       "    <tr>\n",
       "      <th>416</th>\n",
       "      <td>Żmigród</td>\n",
       "      <td>2</td>\n",
       "    </tr>\n",
       "    <tr>\n",
       "      <th>417</th>\n",
       "      <td>Żory</td>\n",
       "      <td>2</td>\n",
       "    </tr>\n",
       "    <tr>\n",
       "      <th>418</th>\n",
       "      <td>Żychlin</td>\n",
       "      <td>2</td>\n",
       "    </tr>\n",
       "    <tr>\n",
       "      <th>419</th>\n",
       "      <td>Żyrardów</td>\n",
       "      <td>5</td>\n",
       "    </tr>\n",
       "  </tbody>\n",
       "</table>\n",
       "<p>420 rows × 2 columns</p>\n",
       "</div>"
      ],
      "text/plain": [
       "           stacja_wyjazdu  stacja_przyjazdu\n",
       "0    Aleksandrów Kujawski                 2\n",
       "1                Augustów                 2\n",
       "2                  Babiak                 2\n",
       "3                Babimost                 2\n",
       "4                 Baciuty                 3\n",
       "..                    ...               ...\n",
       "415                  Żary                 2\n",
       "416               Żmigród                 2\n",
       "417                  Żory                 2\n",
       "418               Żychlin                 2\n",
       "419              Żyrardów                 5\n",
       "\n",
       "[420 rows x 2 columns]"
      ]
     },
     "execution_count": 9,
     "metadata": {},
     "output_type": "execute_result"
    }
   ],
   "source": [
    "# start_count.rename(columns={\"stacja_przyjadu\":\"ilosc\"})\n",
    "start_count"
   ]
  },
  {
   "cell_type": "code",
   "execution_count": 10,
   "metadata": {},
   "outputs": [
    {
     "data": {
      "text/html": [
       "<div>\n",
       "<style scoped>\n",
       "    .dataframe tbody tr th:only-of-type {\n",
       "        vertical-align: middle;\n",
       "    }\n",
       "\n",
       "    .dataframe tbody tr th {\n",
       "        vertical-align: top;\n",
       "    }\n",
       "\n",
       "    .dataframe thead th {\n",
       "        text-align: right;\n",
       "    }\n",
       "</style>\n",
       "<table border=\"1\" class=\"dataframe\">\n",
       "  <thead>\n",
       "    <tr style=\"text-align: right;\">\n",
       "      <th></th>\n",
       "      <th>stacja_wyjazdu</th>\n",
       "      <th>stacja_przyjazdu</th>\n",
       "    </tr>\n",
       "  </thead>\n",
       "  <tbody>\n",
       "    <tr>\n",
       "      <th>4</th>\n",
       "      <td>Baciuty</td>\n",
       "      <td>3</td>\n",
       "    </tr>\n",
       "    <tr>\n",
       "      <th>8</th>\n",
       "      <td>Biała Podlaska</td>\n",
       "      <td>3</td>\n",
       "    </tr>\n",
       "    <tr>\n",
       "      <th>9</th>\n",
       "      <td>Białogard</td>\n",
       "      <td>4</td>\n",
       "    </tr>\n",
       "    <tr>\n",
       "      <th>10</th>\n",
       "      <td>Białystok</td>\n",
       "      <td>5</td>\n",
       "    </tr>\n",
       "    <tr>\n",
       "      <th>15</th>\n",
       "      <td>Bochnia</td>\n",
       "      <td>3</td>\n",
       "    </tr>\n",
       "    <tr>\n",
       "      <th>...</th>\n",
       "      <td>...</td>\n",
       "      <td>...</td>\n",
       "    </tr>\n",
       "    <tr>\n",
       "      <th>394</th>\n",
       "      <td>Łowicz Główny</td>\n",
       "      <td>4</td>\n",
       "    </tr>\n",
       "    <tr>\n",
       "      <th>395</th>\n",
       "      <td>Łuków</td>\n",
       "      <td>3</td>\n",
       "    </tr>\n",
       "    <tr>\n",
       "      <th>396</th>\n",
       "      <td>Łódź Chojny</td>\n",
       "      <td>4</td>\n",
       "    </tr>\n",
       "    <tr>\n",
       "      <th>400</th>\n",
       "      <td>Łódź Widzew</td>\n",
       "      <td>5</td>\n",
       "    </tr>\n",
       "    <tr>\n",
       "      <th>419</th>\n",
       "      <td>Żyrardów</td>\n",
       "      <td>5</td>\n",
       "    </tr>\n",
       "  </tbody>\n",
       "</table>\n",
       "<p>136 rows × 2 columns</p>\n",
       "</div>"
      ],
      "text/plain": [
       "     stacja_wyjazdu  stacja_przyjazdu\n",
       "4           Baciuty                 3\n",
       "8    Biała Podlaska                 3\n",
       "9         Białogard                 4\n",
       "10        Białystok                 5\n",
       "15          Bochnia                 3\n",
       "..              ...               ...\n",
       "394   Łowicz Główny                 4\n",
       "395           Łuków                 3\n",
       "396     Łódź Chojny                 4\n",
       "400     Łódź Widzew                 5\n",
       "419        Żyrardów                 5\n",
       "\n",
       "[136 rows x 2 columns]"
      ]
     },
     "execution_count": 10,
     "metadata": {},
     "output_type": "execute_result"
    }
   ],
   "source": [
    "start_nodes = start_count[start_count['stacja_przyjazdu'] !=1]\n",
    "start_nodes = start_nodes[start_nodes['stacja_przyjazdu'] !=2]\n",
    "start_nodes"
   ]
  },
  {
   "cell_type": "code",
   "execution_count": 11,
   "metadata": {},
   "outputs": [
    {
     "data": {
      "text/plain": [
       "139"
      ]
     },
     "execution_count": 11,
     "metadata": {},
     "output_type": "execute_result"
    }
   ],
   "source": [
    "glowne_nodes = np.array(start_nodes['stacja_wyjazdu']) # niech to będą te stacje, które zostają \n",
    "\n",
    "#dodanie stacji, które są końcowe\n",
    "glowne_nodes = np.append(glowne_nodes,'Ustka')\n",
    "glowne_nodes = np.append(glowne_nodes,'Terespol')\n",
    "glowne_nodes = np.append(glowne_nodes, 'Zagórz')\n",
    "\n",
    "len(glowne_nodes)"
   ]
  },
  {
   "cell_type": "code",
   "execution_count": 27,
   "metadata": {},
   "outputs": [],
   "source": [
    "# glonwe_nodes zapisanie do pliku\n",
    "file = open('super_nodes.txt','w')\n",
    "for item in glowne_nodes:\n",
    "\tfile.write(item+\"\\n\")\n",
    "file.close()"
   ]
  },
  {
   "cell_type": "code",
   "execution_count": 13,
   "metadata": {},
   "outputs": [
    {
     "data": {
      "text/html": [
       "<div>\n",
       "<style scoped>\n",
       "    .dataframe tbody tr th:only-of-type {\n",
       "        vertical-align: middle;\n",
       "    }\n",
       "\n",
       "    .dataframe tbody tr th {\n",
       "        vertical-align: top;\n",
       "    }\n",
       "\n",
       "    .dataframe thead th {\n",
       "        text-align: right;\n",
       "    }\n",
       "</style>\n",
       "<table border=\"1\" class=\"dataframe\">\n",
       "  <thead>\n",
       "    <tr style=\"text-align: right;\">\n",
       "      <th></th>\n",
       "      <th>stacja_wyjazdu</th>\n",
       "      <th>stacja_przyjazdu</th>\n",
       "    </tr>\n",
       "  </thead>\n",
       "  <tbody>\n",
       "    <tr>\n",
       "      <th>0</th>\n",
       "      <td>Warszawa Wschodnia</td>\n",
       "      <td>Warszawa Centralna</td>\n",
       "    </tr>\n",
       "    <tr>\n",
       "      <th>1</th>\n",
       "      <td>Warszawa Centralna</td>\n",
       "      <td>Warszawa Zachodnia</td>\n",
       "    </tr>\n",
       "    <tr>\n",
       "      <th>2</th>\n",
       "      <td>Warszawa Zachodnia</td>\n",
       "      <td>Grodzisk Mazowiecki</td>\n",
       "    </tr>\n",
       "    <tr>\n",
       "      <th>3</th>\n",
       "      <td>Grodzisk Mazowiecki</td>\n",
       "      <td>Opoczno Południe</td>\n",
       "    </tr>\n",
       "    <tr>\n",
       "      <th>4</th>\n",
       "      <td>Opoczno Południe</td>\n",
       "      <td>Włoszczowa Północ</td>\n",
       "    </tr>\n",
       "    <tr>\n",
       "      <th>5</th>\n",
       "      <td>Włoszczowa Północ</td>\n",
       "      <td>Zawiercie</td>\n",
       "    </tr>\n",
       "    <tr>\n",
       "      <th>6</th>\n",
       "      <td>Zawiercie</td>\n",
       "      <td>Dąbrowa Górnicza</td>\n",
       "    </tr>\n",
       "    <tr>\n",
       "      <th>7</th>\n",
       "      <td>Dąbrowa Górnicza</td>\n",
       "      <td>Sosnowiec Główny</td>\n",
       "    </tr>\n",
       "    <tr>\n",
       "      <th>8</th>\n",
       "      <td>Sosnowiec Główny</td>\n",
       "      <td>Katowice</td>\n",
       "    </tr>\n",
       "    <tr>\n",
       "      <th>9</th>\n",
       "      <td>Katowice</td>\n",
       "      <td>Tychy</td>\n",
       "    </tr>\n",
       "    <tr>\n",
       "      <th>10</th>\n",
       "      <td>Tychy</td>\n",
       "      <td>Rybnik</td>\n",
       "    </tr>\n",
       "    <tr>\n",
       "      <th>11</th>\n",
       "      <td>Rybnik</td>\n",
       "      <td>Wodzisław Śląski</td>\n",
       "    </tr>\n",
       "    <tr>\n",
       "      <th>12</th>\n",
       "      <td>Wodzisław Śląski</td>\n",
       "      <td>Chałupki</td>\n",
       "    </tr>\n",
       "    <tr>\n",
       "      <th>13</th>\n",
       "      <td>Chałupki</td>\n",
       "      <td>Bohumin</td>\n",
       "    </tr>\n",
       "    <tr>\n",
       "      <th>170</th>\n",
       "      <td>Warszawa Zachodnia</td>\n",
       "      <td>Zawiercie</td>\n",
       "    </tr>\n",
       "    <tr>\n",
       "      <th>171</th>\n",
       "      <td>Zawiercie</td>\n",
       "      <td>Sosnowiec Główny</td>\n",
       "    </tr>\n",
       "    <tr>\n",
       "      <th>174</th>\n",
       "      <td>Tychy</td>\n",
       "      <td>Pszczyna</td>\n",
       "    </tr>\n",
       "    <tr>\n",
       "      <th>175</th>\n",
       "      <td>Pszczyna</td>\n",
       "      <td>Zebrzydowice</td>\n",
       "    </tr>\n",
       "    <tr>\n",
       "      <th>176</th>\n",
       "      <td>Zebrzydowice</td>\n",
       "      <td>Petrovice u Karvine</td>\n",
       "    </tr>\n",
       "    <tr>\n",
       "      <th>276</th>\n",
       "      <td>Terespol</td>\n",
       "      <td>Biała Podlaska</td>\n",
       "    </tr>\n",
       "    <tr>\n",
       "      <th>277</th>\n",
       "      <td>Biała Podlaska</td>\n",
       "      <td>Międzyrzec Podlaski</td>\n",
       "    </tr>\n",
       "    <tr>\n",
       "      <th>278</th>\n",
       "      <td>Międzyrzec Podlaski</td>\n",
       "      <td>Łuków</td>\n",
       "    </tr>\n",
       "    <tr>\n",
       "      <th>279</th>\n",
       "      <td>Łuków</td>\n",
       "      <td>Siedlce</td>\n",
       "    </tr>\n",
       "    <tr>\n",
       "      <th>280</th>\n",
       "      <td>Siedlce</td>\n",
       "      <td>Mińsk Mazowiecki</td>\n",
       "    </tr>\n",
       "    <tr>\n",
       "      <th>281</th>\n",
       "      <td>Mińsk Mazowiecki</td>\n",
       "      <td>Warszawa Gdańska</td>\n",
       "    </tr>\n",
       "    <tr>\n",
       "      <th>282</th>\n",
       "      <td>Warszawa Gdańska</td>\n",
       "      <td>Opoczno Południe</td>\n",
       "    </tr>\n",
       "    <tr>\n",
       "      <th>288</th>\n",
       "      <td>Katowice</td>\n",
       "      <td>Zabrze</td>\n",
       "    </tr>\n",
       "    <tr>\n",
       "      <th>289</th>\n",
       "      <td>Zabrze</td>\n",
       "      <td>Gliwice</td>\n",
       "    </tr>\n",
       "    <tr>\n",
       "      <th>290</th>\n",
       "      <td>Gliwice</td>\n",
       "      <td>Racibórz</td>\n",
       "    </tr>\n",
       "    <tr>\n",
       "      <th>291</th>\n",
       "      <td>Racibórz</td>\n",
       "      <td>Chałupki</td>\n",
       "    </tr>\n",
       "  </tbody>\n",
       "</table>\n",
       "</div>"
      ],
      "text/plain": [
       "          stacja_wyjazdu     stacja_przyjazdu\n",
       "0     Warszawa Wschodnia   Warszawa Centralna\n",
       "1     Warszawa Centralna   Warszawa Zachodnia\n",
       "2     Warszawa Zachodnia  Grodzisk Mazowiecki\n",
       "3    Grodzisk Mazowiecki     Opoczno Południe\n",
       "4       Opoczno Południe    Włoszczowa Północ\n",
       "5      Włoszczowa Północ            Zawiercie\n",
       "6              Zawiercie     Dąbrowa Górnicza\n",
       "7       Dąbrowa Górnicza     Sosnowiec Główny\n",
       "8       Sosnowiec Główny             Katowice\n",
       "9               Katowice                Tychy\n",
       "10                 Tychy               Rybnik\n",
       "11                Rybnik     Wodzisław Śląski\n",
       "12      Wodzisław Śląski             Chałupki\n",
       "13              Chałupki              Bohumin\n",
       "170   Warszawa Zachodnia            Zawiercie\n",
       "171            Zawiercie     Sosnowiec Główny\n",
       "174                Tychy             Pszczyna\n",
       "175             Pszczyna         Zebrzydowice\n",
       "176         Zebrzydowice  Petrovice u Karvine\n",
       "276             Terespol       Biała Podlaska\n",
       "277       Biała Podlaska  Międzyrzec Podlaski\n",
       "278  Międzyrzec Podlaski                Łuków\n",
       "279                Łuków              Siedlce\n",
       "280              Siedlce     Mińsk Mazowiecki\n",
       "281     Mińsk Mazowiecki     Warszawa Gdańska\n",
       "282     Warszawa Gdańska     Opoczno Południe\n",
       "288             Katowice               Zabrze\n",
       "289               Zabrze              Gliwice\n",
       "290              Gliwice             Racibórz\n",
       "291             Racibórz             Chałupki"
      ]
     },
     "execution_count": 13,
     "metadata": {},
     "output_type": "execute_result"
    }
   ],
   "source": [
    "uniq_con_temp = unique_connections.head(30)\n",
    "uniq_con_temp"
   ]
  },
  {
   "cell_type": "code",
   "execution_count": null,
   "metadata": {},
   "outputs": [],
   "source": [
    "#schetmat działania\n",
    "# - {\"superwezeł_start - superwęzeł_end\":['superwęzeł_start', 'kolejna_stacja', 'inna_stacja',..., 'superwęzeł_end']}\n",
    "\n",
    "\n",
    "# comment \n",
    "# - może nie uwzględniać ostatniej stacji ups"
   ]
  },
  {
   "attachments": {},
   "cell_type": "markdown",
   "metadata": {},
   "source": [
    "## DZIAŁA I TO JEST TA POPRAWNA WERSJA - nieużywana!!"
   ]
  },
  {
   "cell_type": "code",
   "execution_count": 325,
   "metadata": {},
   "outputs": [],
   "source": [
    "# AKTUALNA WERSJA - działa jeśli chodzi o listę z wierzchołkami\n",
    "\n",
    "def new_connection_dic(glowne_nodes, uniq_con):\n",
    "    \"\"\"\n",
    "    @glowne_nodes: superwierzchołki, czyli stacje z których wyjezdzają pociągi w róznych kierunkach\n",
    "    @uniq_con: data.frame z unikalnymi połączeniami (dwie kolummny pierwsze- stacja wyjazdu i stacja przyjazdu)\n",
    "    \"\"\"\n",
    "    new_con_dic = {}\n",
    "\n",
    "    stations_between_tab = []\n",
    "    for row in range(len(uniq_con)):\n",
    "        station = uniq_con.iloc[row,0]\n",
    "        prev_station_end = uniq_con.iloc[row-1,1]\n",
    "\n",
    "        if row !=(len(uniq_con)-1):\n",
    "\n",
    "            if station in glowne_nodes:\n",
    "                stations_between_tab.append(station)\n",
    "                if len(stations_between_tab) > 1: #potrzebny, bo inaczej powstawało połączenie z jednym węzłem\n",
    "                    if station != prev_station_end:\n",
    "                        stations_between_tab[-1] = prev_station_end\n",
    "                        new_con_dic[f'{stations_between_tab[0]} - {stations_between_tab[-1]}'] = stations_between_tab\n",
    "                        stations_between_tab = [station]\n",
    "                    else:\n",
    "                        new_con_dic[f'{stations_between_tab[0]} - {stations_between_tab[-1]}'] = stations_between_tab\n",
    "                        stations_between_tab= [station]\n",
    "            else:\n",
    "                stations_between_tab.append(station)\n",
    "                if station != prev_station_end:\n",
    "                    stations_between_tab[-1] = prev_station_end\n",
    "                    new_con_dic[f'{stations_between_tab[0]} - {stations_between_tab[-1]}'] = stations_between_tab\n",
    "                    stations_between_tab = [station]\n",
    "\n",
    "\n",
    "        else:# żeby ostatnie połączenie z tabeli było uwzględnione\n",
    "            stations_between_tab.append(station)\n",
    "            station_end = uniq_con.iloc[row,1]\n",
    "            stations_between_tab.append(station_end)\n",
    "            print('Ostatnia lista:',stations_between_tab)\n",
    "            new_con_dic[f'{stations_between_tab[0]} - {stations_between_tab[-1]}'] = stations_between_tab\n",
    "\n",
    "        # print(stations_between_tab)\n",
    "    return(new_con_dic)\n",
    "\n",
    "\n",
    "#nie wyświetla się ostatnie połączenie"
   ]
  },
  {
   "cell_type": "code",
   "execution_count": 336,
   "metadata": {},
   "outputs": [],
   "source": [
    "# tab_head = new_connection_dic(glowne_nodes,uniq_con_temp)\n",
    "# tab_head"
   ]
  },
  {
   "cell_type": "code",
   "execution_count": 328,
   "metadata": {},
   "outputs": [],
   "source": [
    "# new_tab = new_connection_dic(glowne_nodes,unique_connections)\n",
    "# list(new_tab.items())[-5:]\n"
   ]
  },
  {
   "cell_type": "code",
   "execution_count": 240,
   "metadata": {},
   "outputs": [],
   "source": [
    "# len(new_tab) #1140 na początku było połączeń, teraz jest 549"
   ]
  },
  {
   "cell_type": "code",
   "execution_count": 329,
   "metadata": {},
   "outputs": [],
   "source": [
    "# tail_tab = new_connection_dic(glowne_nodes,tail)\n",
    "# tail_tab"
   ]
  },
  {
   "cell_type": "code",
   "execution_count": 225,
   "metadata": {},
   "outputs": [
    {
     "data": {
      "text/plain": [
       "25"
      ]
     },
     "execution_count": 225,
     "metadata": {},
     "output_type": "execute_result"
    }
   ],
   "source": [
    "# len(new_con_dic)\n",
    "# list(new_con_dic.items())[10:]\n",
    "# new_con_dic\n"
   ]
  },
  {
   "attachments": {},
   "cell_type": "markdown",
   "metadata": {},
   "source": [
    "## ZAMIANA W SŁOWNiku węzłów na krawędzie"
   ]
  },
  {
   "cell_type": "code",
   "execution_count": 414,
   "metadata": {},
   "outputs": [],
   "source": [
    "# działa\n",
    "\n",
    "def new_connection_dic_edges(glowne_nodes, uniq_con):\n",
    "    \"\"\"\n",
    "    @glowne_nodes: superwierzchołki, czyli stacje z których wyjezdzają pociągi w róznych kierunkach\n",
    "    @uniq_con: data.frame z unikalnymi połączeniami (dwie kolummny pierwsze- stacja wyjazdu i druga - stacja przyjazdu)\n",
    "\n",
    "    @retrun: słownik, gdzie kluczami są super krawędzie, a w środku są mini krawędzie, które zawierając się na odcinku\n",
    "    super krawędzi\n",
    "    \"\"\"\n",
    "    new_con_dic = {}\n",
    "\n",
    "    stations_between_tab = []\n",
    "    for row in range(len(uniq_con)):\n",
    "        station = uniq_con.iloc[row,0] #0 to kolumna 'stacja wyjazdu'\n",
    "        station_end = uniq_con.iloc[row,1] #1 to kolumna 'stacja przyjazdu'\n",
    "        prev_station = uniq_con.iloc[row-1,0]\n",
    "        prev_station_end = uniq_con.iloc[row-1,1]\n",
    "\n",
    "        if row ==(len(uniq_con)-1):\n",
    "            stations_between_tab.append(f\"{station}_{station_end}\")\n",
    "            start_node = stations_between_tab[0].split('_')[0]\n",
    "            end_node = stations_between_tab[-1].split('_')[-1]\n",
    "            new_con_dic[f'{start_node}_{end_node}'] = stations_between_tab\n",
    "            # print(stations_between_tab)\n",
    "\n",
    "        if station in glowne_nodes:\n",
    "            if len(stations_between_tab) > 0: #potrzebny, bo inaczej powstawało połączenie z jednym węzłem\n",
    "                if station != prev_station_end:\n",
    "                    stations_between_tab[-1] = f\"{prev_station}_{prev_station_end}\"\n",
    "            \n",
    "                    start_node = stations_between_tab[0].split('_')[0]\n",
    "                    end_node = stations_between_tab[-1].split('_')[-1]\n",
    "                    new_con_dic[f'{start_node}_{end_node}'] = stations_between_tab\n",
    "                    stations_between_tab = [f\"{station}_{station_end}\"]\n",
    "                else:\n",
    "                    start_node = stations_between_tab[0].split('_')[0]\n",
    "                    end_node = stations_between_tab[-1].split('_')[-1]\n",
    "                    new_con_dic[f'{start_node}_{end_node}'] = stations_between_tab\n",
    "                    stations_between_tab= [f\"{station}_{station_end}\"]\n",
    "            else:\n",
    "                stations_between_tab.append(f\"{station}_{station_end}\")\n",
    "        else:\n",
    "            stations_between_tab.append(f\"{station}_{station_end}\")\n",
    "            if station != prev_station_end:\n",
    "                stations_between_tab[-1] = f\"{prev_station}_{prev_station_end}\"\n",
    "                start_node = stations_between_tab[0].split('_')[0]\n",
    "                end_node = stations_between_tab[-1].split('_')[-1]\n",
    "                new_con_dic[f'{start_node}_{end_node}'] = stations_between_tab\n",
    "                stations_between_tab = [f\"{station}_{station_end}\"]\n",
    "                \n",
    "    return(new_con_dic)\n"
   ]
  },
  {
   "cell_type": "code",
   "execution_count": 500,
   "metadata": {},
   "outputs": [],
   "source": [
    "# unique_connections.iloc[140:165]\n",
    "# unique_connections[unique_connections['stacja_wyjazdu'] == 'Otwock']\n",
    "# unique_connections.iloc[200:220]"
   ]
  },
  {
   "cell_type": "code",
   "execution_count": 519,
   "metadata": {},
   "outputs": [],
   "source": [
    "\n",
    "super_edges = new_connection_dic_edges(glowne_nodes, unique_connections) # słownik z super połączeniami"
   ]
  },
  {
   "cell_type": "code",
   "execution_count": 571,
   "metadata": {},
   "outputs": [
    {
     "data": {
      "text/plain": [
       "True"
      ]
     },
     "execution_count": 571,
     "metadata": {},
     "output_type": "execute_result"
    }
   ],
   "source": [
    "edges_list = list(super_edges.keys())"
   ]
  },
  {
   "cell_type": "code",
   "execution_count": 521,
   "metadata": {},
   "outputs": [
    {
     "data": {
      "text/plain": [
       "551"
      ]
     },
     "execution_count": 521,
     "metadata": {},
     "output_type": "execute_result"
    }
   ],
   "source": [
    "len(super_edges)\n",
    "len(super_edges.keys())"
   ]
  },
  {
   "attachments": {},
   "cell_type": "markdown",
   "metadata": {},
   "source": [
    "# tworzenie słownika z brakującymi połączeniami"
   ]
  },
  {
   "cell_type": "code",
   "execution_count": 518,
   "metadata": {},
   "outputs": [
    {
     "data": {
      "text/plain": [
       "False"
      ]
     },
     "execution_count": 518,
     "metadata": {},
     "output_type": "execute_result"
    }
   ],
   "source": [
    "#próba sprawdzenia gdzie się wyjebuje algorytm, że nie dodaje połączeń\n",
    "\n",
    "missing_con = pd.read_csv(\"test_missing.csv\",encoding=\"utf-8-sig\")\n",
    "test = new_connection_dic_edges(glowne_nodes, missing_con)\n",
    "\n"
   ]
  },
  {
   "cell_type": "code",
   "execution_count": 554,
   "metadata": {},
   "outputs": [],
   "source": [
    "# teraz gdy brakuje aby 6\n",
    "missing_con2 = pd.read_csv(\"test_missing.csv\",encoding=\"utf-8-sig\")\n",
    "test2 = new_connection_dic_edges(glowne_nodes, missing_con2)"
   ]
  },
  {
   "cell_type": "code",
   "execution_count": 556,
   "metadata": {},
   "outputs": [
    {
     "data": {
      "text/plain": [
       "{'Ostrów\\xa0Wielkopolski_Oleśnica\\xa0Rataje': ['Ostrów\\xa0Wielkopolski_Krotoszyn',\n",
       "  'Krotoszyn_Milicz',\n",
       "  'Milicz_Oleśnica\\xa0Rataje'],\n",
       " 'Oleśnica\\xa0Rataje_Ostrów\\xa0Wielkopolski': ['Oleśnica\\xa0Rataje_Milicz',\n",
       "  'Milicz_Krotoszyn',\n",
       "  'Krotoszyn_Ostrów\\xa0Wielkopolski',\n",
       "  'Krotoszyn_Ostrów\\xa0Wielkopolski']}"
      ]
     },
     "execution_count": 556,
     "metadata": {},
     "output_type": "execute_result"
    }
   ],
   "source": [
    "len(test2)\n",
    "test2\n"
   ]
  },
  {
   "cell_type": "code",
   "execution_count": 1,
   "metadata": {},
   "outputs": [],
   "source": [
    "# missing_con"
   ]
  },
  {
   "cell_type": "code",
   "execution_count": 355,
   "metadata": {},
   "outputs": [],
   "source": [
    "# # heheheh\n",
    "\n",
    "# def new_connection_dic_edges(glowne_nodes, uniq_con):\n",
    "#     \"\"\"\n",
    "#     @glowne_nodes: superwierzchołki, czyli stacje z których wyjezdzają pociągi w róznych kierunkach\n",
    "#     @uniq_con: data.frame z unikalnymi połączeniami (dwie kolummny pierwsze- stacja wyjazdu i druga - stacja przyjazdu)\n",
    "#     \"\"\"\n",
    "#     new_con_dic = {}\n",
    "\n",
    "#     stations_between_tab = []\n",
    "#     for row in range(len(uniq_con)):\n",
    "#         station = uniq_con.iloc[row,0] #0 to kolumna 'stacja wyjazdu'\n",
    "#         station_end = uniq_con.iloc[row,1] #1 to kolumna 'stacja przyjazdu'\n",
    "#         prev_station = uniq_con.iloc[row-1,0]\n",
    "#         prev_station_end = uniq_con.iloc[row-1,1]\n",
    "\n",
    "#         stations_between_tab.append(f'{station}-{station_end}')\n",
    "\n",
    "#         if station in glowne_nodes:\n",
    "#             if len(stations_between_tab) > 0:\n",
    "#                 stations_between_tab.append(f'{station}-{station_end}')\n",
    "\n",
    "#                 start_node = stations_between_tab[0].split('-')[0]\n",
    "#                 end_node = stations_between_tab[-1].split('-')[-1]\n",
    "#                 new_con_dic[f'{start_node} - {end_node}'] = stations_between_tab\n",
    "#             else:\n",
    "#                 stations_between_tab.append(f'{station}-{station_end}')\n",
    "        \n",
    "#         else:\n",
    "#             stations_between_tab.append(f'{station}-{station_end}')\n",
    "\n",
    "\n",
    "#     return(new_con_dic)"
   ]
  },
  {
   "cell_type": "code",
   "execution_count": 406,
   "metadata": {},
   "outputs": [],
   "source": [
    "# new_connection_dic_edges(glowne_nodes, uniq_con_temp) #dopracować ostatnie połączenia - poprawione"
   ]
  },
  {
   "cell_type": "code",
   "execution_count": 453,
   "metadata": {},
   "outputs": [
    {
     "data": {
      "text/plain": [
       "551"
      ]
     },
     "execution_count": 453,
     "metadata": {},
     "output_type": "execute_result"
    }
   ],
   "source": [
    "# do sprawdzenia!!!! - sprawdzone\n",
    "# ('Słupsk', 'Słupsk'),('Biała\\xa0Podlaska', 'Biała\\xa0Podlaska'),('Rzeszów\\xa0Zachodni', 'Rzeszów\\xa0Zachodni')\n"
   ]
  },
  {
   "attachments": {},
   "cell_type": "markdown",
   "metadata": {},
   "source": [
    "# łączenie dwóch słowników"
   ]
  },
  {
   "cell_type": "code",
   "execution_count": 557,
   "metadata": {},
   "outputs": [],
   "source": [
    "# super_edges.update(test)\n",
    "\n",
    "super_edges.update(test2)"
   ]
  },
  {
   "cell_type": "code",
   "execution_count": 558,
   "metadata": {},
   "outputs": [
    {
     "data": {
      "text/plain": [
       "551"
      ]
     },
     "execution_count": 558,
     "metadata": {},
     "output_type": "execute_result"
    }
   ],
   "source": [
    "len(super_edges)\n",
    "# super_edges"
   ]
  },
  {
   "cell_type": "code",
   "execution_count": 559,
   "metadata": {},
   "outputs": [],
   "source": [
    "json.dump(super_edges,open('super_edges_temp2.json',\"w\"))"
   ]
  },
  {
   "attachments": {},
   "cell_type": "markdown",
   "metadata": {},
   "source": [
    "# wyplotowanie mapy z tylko głównymi nodesami"
   ]
  },
  {
   "cell_type": "code",
   "execution_count": 3,
   "metadata": {},
   "outputs": [],
   "source": [
    "# to potrzebne, bo inaczej wyskakuje GeocoderServiceError, ale ogólnie bardzo niewskazane XD\n",
    "ssl._create_default_https_context = ssl._create_unverified_context"
   ]
  },
  {
   "cell_type": "code",
   "execution_count": 4,
   "metadata": {},
   "outputs": [],
   "source": [
    "pos = json.load(open(\"station_pos_new.json\",\"r\", encoding=\"utf-8\"))\n",
    "\n",
    "pos[\"Jagodin\"] = [23.895798884090656,  51.19818428908686]\n",
    "pos[\"Jarosław\"] = [22.677651659198048, 50.011096189470834]\n",
    "pos[\"Chałupki\"] = [18.311526302001212, 49.925748636690045]\n",
    "pos[\"Kostrzyn\"] = [14.647305794898253, 52.591351788760555]"
   ]
  },
  {
   "cell_type": "code",
   "execution_count": 12,
   "metadata": {},
   "outputs": [],
   "source": [
    "new_pos = {}\n",
    "\n",
    "pos_keys = list(pos.keys())\n",
    "pos_val = list(pos.values())\n",
    "for p in range(len(pos_keys)):\n",
    "    if pos_keys[p] in glowne_nodes:\n",
    "        new_pos[pos_keys[p]] = pos_val[p]"
   ]
  },
  {
   "cell_type": "code",
   "execution_count": 563,
   "metadata": {},
   "outputs": [],
   "source": [
    "# len(new_pos)"
   ]
  },
  {
   "cell_type": "code",
   "execution_count": 19,
   "metadata": {},
   "outputs": [],
   "source": [
    "test_trains = df[\"nazwa_pociagu\"].unique()\n",
    "nodes = list(new_pos.keys())"
   ]
  },
  {
   "cell_type": "code",
   "execution_count": 565,
   "metadata": {},
   "outputs": [],
   "source": [
    "# uniq_connections = df[['stacja_wyjazdu','stacja_przyjazdu']].drop_duplicates()\n",
    "# uniq_connections = [(conn[1],conn[2]) for conn in uniq_connections.itertuples()]\n",
    "# uniq_connections.sort()\n",
    "# uniq_connections"
   ]
  },
  {
   "cell_type": "code",
   "execution_count": 566,
   "metadata": {},
   "outputs": [],
   "source": [
    "# list(super_edges.keys())"
   ]
  },
  {
   "cell_type": "code",
   "execution_count": 20,
   "metadata": {},
   "outputs": [],
   "source": [
    "super_edges= json.load(open(\"super_edges_temp2.json\",\"r\", encoding=\"utf-8\"))\n"
   ]
  },
  {
   "cell_type": "code",
   "execution_count": 21,
   "metadata": {},
   "outputs": [],
   "source": [
    "super_edges_tuples = list(tuple(list(super_edges.keys())[i].split('_')) for i in range(len(super_edges)))\n"
   ]
  },
  {
   "cell_type": "code",
   "execution_count": 22,
   "metadata": {},
   "outputs": [
    {
     "name": "stdout",
     "output_type": "stream",
     "text": [
      "try to deleteLublin GłównyLegnica\n",
      "try to deleteWarszawa GdańskaŁódź Widzew\n",
      "try to deleteKraków GłównySokółka\n",
      "try to deleteŚwinoujścieBiałystok\n",
      "try to deletePoznań GłównyŁódź Widzew\n",
      "try to deleteZielona Góra GłównaLublin Główny\n",
      "try to deleteSzczecin GłównyBiałystok\n"
     ]
    }
   ],
   "source": [
    "err_conn = [('Lublin\\xa0Główny', 'Legnica'), ('Warszawa\\xa0Gdańska', 'Łódź\\xa0Widzew'),  ('Kraków\\xa0Główny', 'Sokółka') , \n",
    " ('Świnoujście', 'Białystok'),  ('Poznań\\xa0Główny', 'Łódź\\xa0Widzew'), ('Zielona\\xa0Góra\\xa0Główna', 'Lublin\\xa0Główny'),\n",
    " ('Szczecin\\xa0Główny','Białystok')]\n",
    "\n",
    "for conn in err_conn:\n",
    "    print(\"try to delete\" + conn[0] + conn[1])\n",
    "    try:\n",
    "        super_edges_tuples.remove(conn)\n",
    "    except:\n",
    "        pass"
   ]
  },
  {
   "cell_type": "code",
   "execution_count": 23,
   "metadata": {},
   "outputs": [],
   "source": [
    "# super_edges['Szczecin\\xa0Główny_Białystok'] \n",
    "# # nie ma tak prawie bezpośredniego połączenia ze szczecina do Bałegostoku\n",
    "\n",
    "# super_edges_tuples.remove('Szczecin\\xa0Główny_Białystok')\n",
    "# super_edges"
   ]
  },
  {
   "cell_type": "code",
   "execution_count": 24,
   "metadata": {},
   "outputs": [
    {
     "data": {
      "image/png": "[encoded data removed]",
      "text/plain": [
       "<Figure size 792x720 with 1 Axes>"
      ]
     },
     "metadata": {},
     "output_type": "display_data"
    }
   ],
   "source": [
    "# SAME GŁÓWNE NODESY\n",
    "\n",
    "plt.figure(figsize=(11,10))\n",
    "G = nx.Graph()\n",
    "G.add_nodes_from(nodes)\n",
    "G.add_edges_from(super_edges_tuples)\n",
    "labels = {node: \"-\".join([w[:2] for w in re.split('\\s',node)]) for node in G.nodes()}\n",
    "nx.draw(G,pos,node_size=50,alpha=0.7,edgecolors='red', node_color='lightgray')"
   ]
  },
  {
   "cell_type": "code",
   "execution_count": null,
   "metadata": {},
   "outputs": [],
   "source": []
  },
  {
   "cell_type": "code",
   "execution_count": null,
   "metadata": {},
   "outputs": [],
   "source": []
  }
 ],
 "metadata": {
  "kernelspec": {
   "display_name": "Python 3",
   "language": "python",
   "name": "python3"
  },
  "language_info": {
   "codemirror_mode": {
    "name": "ipython",
    "version": 3
   },
   "file_extension": ".py",
   "mimetype": "text/x-python",
   "name": "python",
   "nbconvert_exporter": "python",
   "pygments_lexer": "ipython3",
   "version": "3.7.9"
  },
  "orig_nbformat": 4
 },
 "nbformat": 4,
 "nbformat_minor": 2
}
