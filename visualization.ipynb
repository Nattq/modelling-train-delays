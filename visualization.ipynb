{
 "cells": [
  {
   "cell_type": "code",
   "execution_count": 2,
   "metadata": {},
   "outputs": [],
   "source": [
    "import matplotlib.pyplot as plt\n",
    "import seaborn as sns\n",
    "import pandas as pd\n",
    "from datetime import datetime\n",
    "\n",
    "sns.set_style(\"darkgrid\")"
   ]
  },
  {
   "cell_type": "code",
   "execution_count": 3,
   "metadata": {},
   "outputs": [
    {
     "data": {
      "text/html": [
       "<div>\n",
       "<style scoped>\n",
       "    .dataframe tbody tr th:only-of-type {\n",
       "        vertical-align: middle;\n",
       "    }\n",
       "\n",
       "    .dataframe tbody tr th {\n",
       "        vertical-align: top;\n",
       "    }\n",
       "\n",
       "    .dataframe thead th {\n",
       "        text-align: right;\n",
       "    }\n",
       "</style>\n",
       "<table border=\"1\" class=\"dataframe\">\n",
       "  <thead>\n",
       "    <tr style=\"text-align: right;\">\n",
       "      <th></th>\n",
       "      <th>nazwa_pociagu</th>\n",
       "      <th>stacja_poczatkowa</th>\n",
       "      <th>stacja_koncowa</th>\n",
       "      <th>stacja_pomiaru</th>\n",
       "      <th>data</th>\n",
       "      <th>czas_rozkladowy</th>\n",
       "      <th>czas_przyjazdu</th>\n",
       "      <th>opoznienie</th>\n",
       "    </tr>\n",
       "  </thead>\n",
       "  <tbody>\n",
       "    <tr>\n",
       "      <th>64717</th>\n",
       "      <td>MHE 53172/3 ROZEWIE</td>\n",
       "      <td>Gdynia Główna</td>\n",
       "      <td>Kraków Główny</td>\n",
       "      <td>Rawicz</td>\n",
       "      <td>10.03</td>\n",
       "      <td>03:55</td>\n",
       "      <td>03:54</td>\n",
       "      <td>-1.0</td>\n",
       "    </tr>\n",
       "    <tr>\n",
       "      <th>49758</th>\n",
       "      <td>MPE 83101/0 GÓRSKI</td>\n",
       "      <td>Szczecin Główny</td>\n",
       "      <td>Rzeszów Główny</td>\n",
       "      <td>Krzyż</td>\n",
       "      <td>10.03</td>\n",
       "      <td>14:17</td>\n",
       "      <td>14:18</td>\n",
       "      <td>1.0</td>\n",
       "    </tr>\n",
       "    <tr>\n",
       "      <th>32859</th>\n",
       "      <td>EIJ 5422/3 SKARBEK</td>\n",
       "      <td>Olsztyn Główny</td>\n",
       "      <td>Racibórz</td>\n",
       "      <td>Koluszki</td>\n",
       "      <td>01.03</td>\n",
       "      <td>19:46</td>\n",
       "      <td>19:53</td>\n",
       "      <td>7.0</td>\n",
       "    </tr>\n",
       "    <tr>\n",
       "      <th>13170</th>\n",
       "      <td>ECE 14000/1 SILESIA</td>\n",
       "      <td>Warszawa Wschodnia</td>\n",
       "      <td>Bohumin</td>\n",
       "      <td>Zawiercie</td>\n",
       "      <td>08.03</td>\n",
       "      <td>07:27</td>\n",
       "      <td>07:27</td>\n",
       "      <td>0.0</td>\n",
       "    </tr>\n",
       "    <tr>\n",
       "      <th>18867</th>\n",
       "      <td>MPE 54100/1 DOKER</td>\n",
       "      <td>Gdynia Główna</td>\n",
       "      <td>Katowice</td>\n",
       "      <td>Laskowice Pomorskie</td>\n",
       "      <td>05.03</td>\n",
       "      <td>08:14</td>\n",
       "      <td>08:13</td>\n",
       "      <td>-1.0</td>\n",
       "    </tr>\n",
       "    <tr>\n",
       "      <th>72367</th>\n",
       "      <td>MPE 58108/9 STAŃCZYK</td>\n",
       "      <td>Olsztyn Główny</td>\n",
       "      <td>Szczecin Główny</td>\n",
       "      <td>Szczecin Główny</td>\n",
       "      <td>10.03</td>\n",
       "      <td>22:57</td>\n",
       "      <td>23:18</td>\n",
       "      <td>21.0</td>\n",
       "    </tr>\n",
       "    <tr>\n",
       "      <th>55725</th>\n",
       "      <td>EIE 5314/5 ARTUS</td>\n",
       "      <td>Gdynia Główna</td>\n",
       "      <td>Przemyśl Główny</td>\n",
       "      <td>Rawicz</td>\n",
       "      <td>01.03</td>\n",
       "      <td>14:35</td>\n",
       "      <td>14:45</td>\n",
       "      <td>10.0</td>\n",
       "    </tr>\n",
       "    <tr>\n",
       "      <th>73566</th>\n",
       "      <td>EIJ 1530/1 BRDA</td>\n",
       "      <td>Warszawa Centralna</td>\n",
       "      <td>Bydgoszcz Główna</td>\n",
       "      <td>Bydgoszcz Leśna</td>\n",
       "      <td>05.03</td>\n",
       "      <td>22:46</td>\n",
       "      <td>22:54</td>\n",
       "      <td>8.0</td>\n",
       "    </tr>\n",
       "    <tr>\n",
       "      <th>29084</th>\n",
       "      <td>MPE 84101/0 GWAREK</td>\n",
       "      <td>Słupsk</td>\n",
       "      <td>Katowice</td>\n",
       "      <td>Kościan</td>\n",
       "      <td>06.03</td>\n",
       "      <td>19:15</td>\n",
       "      <td>19:14</td>\n",
       "      <td>-1.0</td>\n",
       "    </tr>\n",
       "    <tr>\n",
       "      <th>68517</th>\n",
       "      <td>MPE 85102/3 ŻUŁAWY</td>\n",
       "      <td>Szczecin Główny</td>\n",
       "      <td>Olsztyn Główny</td>\n",
       "      <td>Rumia</td>\n",
       "      <td>03.03</td>\n",
       "      <td>19:18</td>\n",
       "      <td>23:13</td>\n",
       "      <td>235.0</td>\n",
       "    </tr>\n",
       "  </tbody>\n",
       "</table>\n",
       "</div>"
      ],
      "text/plain": [
       "              nazwa_pociagu   stacja_poczatkowa    stacja_koncowa  \\\n",
       "64717   MHE 53172/3 ROZEWIE       Gdynia Główna     Kraków Główny   \n",
       "49758    MPE 83101/0 GÓRSKI     Szczecin Główny    Rzeszów Główny   \n",
       "32859    EIJ 5422/3 SKARBEK      Olsztyn Główny          Racibórz   \n",
       "13170   ECE 14000/1 SILESIA  Warszawa Wschodnia           Bohumin   \n",
       "18867     MPE 54100/1 DOKER       Gdynia Główna          Katowice   \n",
       "72367  MPE 58108/9 STAŃCZYK      Olsztyn Główny   Szczecin Główny   \n",
       "55725      EIE 5314/5 ARTUS       Gdynia Główna   Przemyśl Główny   \n",
       "73566       EIJ 1530/1 BRDA  Warszawa Centralna  Bydgoszcz Główna   \n",
       "29084    MPE 84101/0 GWAREK              Słupsk          Katowice   \n",
       "68517    MPE 85102/3 ŻUŁAWY     Szczecin Główny    Olsztyn Główny   \n",
       "\n",
       "            stacja_pomiaru   data czas_rozkladowy czas_przyjazdu  opoznienie  \n",
       "64717               Rawicz  10.03           03:55          03:54        -1.0  \n",
       "49758                Krzyż  10.03           14:17          14:18         1.0  \n",
       "32859             Koluszki  01.03           19:46          19:53         7.0  \n",
       "13170            Zawiercie  08.03           07:27          07:27         0.0  \n",
       "18867  Laskowice Pomorskie  05.03           08:14          08:13        -1.0  \n",
       "72367      Szczecin Główny  10.03           22:57          23:18        21.0  \n",
       "55725               Rawicz  01.03           14:35          14:45        10.0  \n",
       "73566      Bydgoszcz Leśna  05.03           22:46          22:54         8.0  \n",
       "29084              Kościan  06.03           19:15          19:14        -1.0  \n",
       "68517                Rumia  03.03           19:18          23:13       235.0  "
      ]
     },
     "execution_count": 3,
     "metadata": {},
     "output_type": "execute_result"
    }
   ],
   "source": [
    "df = pd.read_csv(\"data\\Scrapping_03-12-23_12-10-44.csv\", na_values = \"--\", date_parser = \"data\")\n",
    "df.sample(10)"
   ]
  },
  {
   "attachments": {},
   "cell_type": "markdown",
   "metadata": {},
   "source": [
    "### Podstawowe statystyki"
   ]
  },
  {
   "cell_type": "code",
   "execution_count": 4,
   "metadata": {},
   "outputs": [
    {
     "data": {
      "text/html": [
       "<div>\n",
       "<style scoped>\n",
       "    .dataframe tbody tr th:only-of-type {\n",
       "        vertical-align: middle;\n",
       "    }\n",
       "\n",
       "    .dataframe tbody tr th {\n",
       "        vertical-align: top;\n",
       "    }\n",
       "\n",
       "    .dataframe thead th {\n",
       "        text-align: right;\n",
       "    }\n",
       "</style>\n",
       "<table border=\"1\" class=\"dataframe\">\n",
       "  <thead>\n",
       "    <tr style=\"text-align: right;\">\n",
       "      <th></th>\n",
       "      <th>opoznienie</th>\n",
       "    </tr>\n",
       "  </thead>\n",
       "  <tbody>\n",
       "    <tr>\n",
       "      <th>count</th>\n",
       "      <td>90174.000000</td>\n",
       "    </tr>\n",
       "    <tr>\n",
       "      <th>mean</th>\n",
       "      <td>5.506255</td>\n",
       "    </tr>\n",
       "    <tr>\n",
       "      <th>std</th>\n",
       "      <td>17.860394</td>\n",
       "    </tr>\n",
       "    <tr>\n",
       "      <th>min</th>\n",
       "      <td>-22.000000</td>\n",
       "    </tr>\n",
       "    <tr>\n",
       "      <th>25%</th>\n",
       "      <td>0.000000</td>\n",
       "    </tr>\n",
       "    <tr>\n",
       "      <th>50%</th>\n",
       "      <td>0.000000</td>\n",
       "    </tr>\n",
       "    <tr>\n",
       "      <th>75%</th>\n",
       "      <td>4.000000</td>\n",
       "    </tr>\n",
       "    <tr>\n",
       "      <th>max</th>\n",
       "      <td>441.000000</td>\n",
       "    </tr>\n",
       "  </tbody>\n",
       "</table>\n",
       "</div>"
      ],
      "text/plain": [
       "         opoznienie\n",
       "count  90174.000000\n",
       "mean       5.506255\n",
       "std       17.860394\n",
       "min      -22.000000\n",
       "25%        0.000000\n",
       "50%        0.000000\n",
       "75%        4.000000\n",
       "max      441.000000"
      ]
     },
     "execution_count": 4,
     "metadata": {},
     "output_type": "execute_result"
    }
   ],
   "source": [
    "df.describe()"
   ]
  },
  {
   "cell_type": "code",
   "execution_count": 5,
   "metadata": {},
   "outputs": [
    {
     "name": "stdout",
     "output_type": "stream",
     "text": [
      "<class 'pandas.core.frame.DataFrame'>\n",
      "RangeIndex: 92548 entries, 0 to 92547\n",
      "Data columns (total 8 columns):\n",
      " #   Column             Non-Null Count  Dtype  \n",
      "---  ------             --------------  -----  \n",
      " 0   nazwa_pociagu      92548 non-null  object \n",
      " 1   stacja_poczatkowa  92548 non-null  object \n",
      " 2   stacja_koncowa     92548 non-null  object \n",
      " 3   stacja_pomiaru     92548 non-null  object \n",
      " 4   data               92548 non-null  object \n",
      " 5   czas_rozkladowy    92548 non-null  object \n",
      " 6   czas_przyjazdu     92548 non-null  object \n",
      " 7   opoznienie         90174 non-null  float64\n",
      "dtypes: float64(1), object(7)\n",
      "memory usage: 5.6+ MB\n"
     ]
    }
   ],
   "source": [
    "df.info()"
   ]
  },
  {
   "cell_type": "code",
   "execution_count": 6,
   "metadata": {},
   "outputs": [
    {
     "data": {
      "text/plain": [
       "423"
      ]
     },
     "execution_count": 6,
     "metadata": {},
     "output_type": "execute_result"
    }
   ],
   "source": [
    "df[\"nazwa_pociagu\"].nunique() #ile pociagow, przeciwne kierunki liczone osobno"
   ]
  },
  {
   "cell_type": "code",
   "execution_count": 7,
   "metadata": {},
   "outputs": [
    {
     "data": {
      "text/plain": [
       "465"
      ]
     },
     "execution_count": 7,
     "metadata": {},
     "output_type": "execute_result"
    }
   ],
   "source": [
    "df[\"stacja_pomiaru\"].nunique() #ile stacji"
   ]
  },
  {
   "cell_type": "code",
   "execution_count": 8,
   "metadata": {},
   "outputs": [
    {
     "data": {
      "text/html": [
       "<div>\n",
       "<style scoped>\n",
       "    .dataframe tbody tr th:only-of-type {\n",
       "        vertical-align: middle;\n",
       "    }\n",
       "\n",
       "    .dataframe tbody tr th {\n",
       "        vertical-align: top;\n",
       "    }\n",
       "\n",
       "    .dataframe thead th {\n",
       "        text-align: right;\n",
       "    }\n",
       "</style>\n",
       "<table border=\"1\" class=\"dataframe\">\n",
       "  <thead>\n",
       "    <tr style=\"text-align: right;\">\n",
       "      <th></th>\n",
       "      <th>nazwa_pociagu</th>\n",
       "      <th>stacja_poczatkowa</th>\n",
       "      <th>stacja_koncowa</th>\n",
       "      <th>stacja_pomiaru</th>\n",
       "      <th>data</th>\n",
       "      <th>czas_rozkladowy</th>\n",
       "      <th>czas_przyjazdu</th>\n",
       "      <th>opoznienie</th>\n",
       "    </tr>\n",
       "  </thead>\n",
       "  <tbody>\n",
       "    <tr>\n",
       "      <th>72700</th>\n",
       "      <td>MPE 85100/1 ALBATROS</td>\n",
       "      <td>Szczecin Główny</td>\n",
       "      <td>Gdańsk Główny</td>\n",
       "      <td>Sopot</td>\n",
       "      <td>08.03</td>\n",
       "      <td>22:29</td>\n",
       "      <td>05:50</td>\n",
       "      <td>441.0</td>\n",
       "    </tr>\n",
       "    <tr>\n",
       "      <th>72701</th>\n",
       "      <td>MPE 85100/1 ALBATROS</td>\n",
       "      <td>Szczecin Główny</td>\n",
       "      <td>Gdańsk Główny</td>\n",
       "      <td>Gdańsk Oliwa</td>\n",
       "      <td>08.03</td>\n",
       "      <td>22:34</td>\n",
       "      <td>05:55</td>\n",
       "      <td>441.0</td>\n",
       "    </tr>\n",
       "    <tr>\n",
       "      <th>72702</th>\n",
       "      <td>MPE 85100/1 ALBATROS</td>\n",
       "      <td>Szczecin Główny</td>\n",
       "      <td>Gdańsk Główny</td>\n",
       "      <td>Gdańsk Wrzeszcz</td>\n",
       "      <td>08.03</td>\n",
       "      <td>22:38</td>\n",
       "      <td>05:59</td>\n",
       "      <td>441.0</td>\n",
       "    </tr>\n",
       "  </tbody>\n",
       "</table>\n",
       "</div>"
      ],
      "text/plain": [
       "              nazwa_pociagu stacja_poczatkowa stacja_koncowa   stacja_pomiaru  \\\n",
       "72700  MPE 85100/1 ALBATROS   Szczecin Główny  Gdańsk Główny            Sopot   \n",
       "72701  MPE 85100/1 ALBATROS   Szczecin Główny  Gdańsk Główny     Gdańsk Oliwa   \n",
       "72702  MPE 85100/1 ALBATROS   Szczecin Główny  Gdańsk Główny  Gdańsk Wrzeszcz   \n",
       "\n",
       "        data czas_rozkladowy czas_przyjazdu  opoznienie  \n",
       "72700  08.03           22:29          05:50       441.0  \n",
       "72701  08.03           22:34          05:55       441.0  \n",
       "72702  08.03           22:38          05:59       441.0  "
      ]
     },
     "execution_count": 8,
     "metadata": {},
     "output_type": "execute_result"
    }
   ],
   "source": [
    "df[df[\"opoznienie\"] == max(df[\"opoznienie\"])]"
   ]
  },
  {
   "cell_type": "code",
   "execution_count": 9,
   "metadata": {},
   "outputs": [
    {
     "data": {
      "text/html": [
       "<div>\n",
       "<style scoped>\n",
       "    .dataframe tbody tr th:only-of-type {\n",
       "        vertical-align: middle;\n",
       "    }\n",
       "\n",
       "    .dataframe tbody tr th {\n",
       "        vertical-align: top;\n",
       "    }\n",
       "\n",
       "    .dataframe thead th {\n",
       "        text-align: right;\n",
       "    }\n",
       "</style>\n",
       "<table border=\"1\" class=\"dataframe\">\n",
       "  <thead>\n",
       "    <tr style=\"text-align: right;\">\n",
       "      <th></th>\n",
       "      <th>nazwa_pociagu</th>\n",
       "      <th>stacja_poczatkowa</th>\n",
       "      <th>stacja_koncowa</th>\n",
       "      <th>stacja_pomiaru</th>\n",
       "      <th>data</th>\n",
       "      <th>czas_rozkladowy</th>\n",
       "      <th>czas_przyjazdu</th>\n",
       "      <th>opoznienie</th>\n",
       "    </tr>\n",
       "  </thead>\n",
       "  <tbody>\n",
       "    <tr>\n",
       "      <th>4597</th>\n",
       "      <td>MHE 38170/1 USTRONIE</td>\n",
       "      <td>Kraków Główny</td>\n",
       "      <td>Kołobrzeg</td>\n",
       "      <td>Słupsk</td>\n",
       "      <td>03.03</td>\n",
       "      <td>08:21</td>\n",
       "      <td>07:59</td>\n",
       "      <td>-22.0</td>\n",
       "    </tr>\n",
       "  </tbody>\n",
       "</table>\n",
       "</div>"
      ],
      "text/plain": [
       "             nazwa_pociagu stacja_poczatkowa stacja_koncowa stacja_pomiaru  \\\n",
       "4597  MHE 38170/1 USTRONIE     Kraków Główny      Kołobrzeg         Słupsk   \n",
       "\n",
       "       data czas_rozkladowy czas_przyjazdu  opoznienie  \n",
       "4597  03.03           08:21          07:59       -22.0  "
      ]
     },
     "execution_count": 9,
     "metadata": {},
     "output_type": "execute_result"
    }
   ],
   "source": [
    "df[df[\"opoznienie\"] == min(df[\"opoznienie\"])]"
   ]
  },
  {
   "attachments": {},
   "cell_type": "markdown",
   "metadata": {},
   "source": [
    "### Rozkład opóźnień"
   ]
  },
  {
   "cell_type": "code",
   "execution_count": 10,
   "metadata": {},
   "outputs": [
    {
     "data": {
      "text/plain": [
       "Text(0.5, 0, 'Opóźnienie')"
      ]
     },
     "execution_count": 10,
     "metadata": {},
     "output_type": "execute_result"
    },
    {
     "data": {
      "image/png": "[encoded data removed]",
      "text/plain": [
       "<Figure size 640x480 with 1 Axes>"
      ]
     },
     "metadata": {},
     "output_type": "display_data"
    }
   ],
   "source": [
    "plt.hist(df[\"opoznienie\"], density = True, bins = 50, color = \"#f6dc68\")\n",
    "plt.xlabel(\"Opóźnienie\")"
   ]
  },
  {
   "attachments": {},
   "cell_type": "markdown",
   "metadata": {},
   "source": [
    "### Które pociągi mają największe opóźnienie?"
   ]
  },
  {
   "cell_type": "code",
   "execution_count": 11,
   "metadata": {},
   "outputs": [
    {
     "name": "stderr",
     "output_type": "stream",
     "text": [
      "C:\\Users\\klaud\\AppData\\Local\\Temp\\ipykernel_8492\\755504090.py:2: SettingWithCopyWarning: \n",
      "A value is trying to be set on a copy of a slice from a DataFrame.\n",
      "Try using .loc[row_indexer,col_indexer] = value instead\n",
      "\n",
      "See the caveats in the documentation: https://pandas.pydata.org/pandas-docs/stable/user_guide/indexing.html#returning-a-view-versus-a-copy\n",
      "  df2[\"nazwa_pociagu\"] = df2[\"nazwa_pociagu\"].str.split().apply(lambda x: \" \".join(x[2:]))\n"
     ]
    }
   ],
   "source": [
    "df2 = df[df[\"stacja_koncowa\"] == df[\"stacja_pomiaru\"]]\n",
    "df2[\"nazwa_pociagu\"] = df2[\"nazwa_pociagu\"].str.split().apply(lambda x: \" \".join(x[2:]))"
   ]
  },
  {
   "cell_type": "code",
   "execution_count": 12,
   "metadata": {},
   "outputs": [
    {
     "name": "stderr",
     "output_type": "stream",
     "text": [
      "C:\\Users\\klaud\\AppData\\Local\\Temp\\ipykernel_8492\\72687518.py:1: FutureWarning: The default value of numeric_only in DataFrameGroupBy.mean is deprecated. In a future version, numeric_only will default to False. Either specify numeric_only or select only columns which should be valid for the function.\n",
      "  mean_train_delay = df2.groupby(\"nazwa_pociagu\").mean().reset_index().sort_values(by = \"opoznienie\")\n"
     ]
    },
    {
     "data": {
      "text/html": [
       "<div>\n",
       "<style scoped>\n",
       "    .dataframe tbody tr th:only-of-type {\n",
       "        vertical-align: middle;\n",
       "    }\n",
       "\n",
       "    .dataframe tbody tr th {\n",
       "        vertical-align: top;\n",
       "    }\n",
       "\n",
       "    .dataframe thead th {\n",
       "        text-align: right;\n",
       "    }\n",
       "</style>\n",
       "<table border=\"1\" class=\"dataframe\">\n",
       "  <thead>\n",
       "    <tr style=\"text-align: right;\">\n",
       "      <th></th>\n",
       "      <th>nazwa_pociagu</th>\n",
       "      <th>opoznienie</th>\n",
       "    </tr>\n",
       "  </thead>\n",
       "  <tbody>\n",
       "    <tr>\n",
       "      <th>71</th>\n",
       "      <td>MARSZAŁEK PIŁSUDSKI</td>\n",
       "      <td>-2.083333</td>\n",
       "    </tr>\n",
       "    <tr>\n",
       "      <th>70</th>\n",
       "      <td>MAMRY</td>\n",
       "      <td>-0.625000</td>\n",
       "    </tr>\n",
       "    <tr>\n",
       "      <th>122</th>\n",
       "      <td>STARZYŃSKI</td>\n",
       "      <td>0.000000</td>\n",
       "    </tr>\n",
       "    <tr>\n",
       "      <th>85</th>\n",
       "      <td>NIEGOCIN</td>\n",
       "      <td>0.041667</td>\n",
       "    </tr>\n",
       "    <tr>\n",
       "      <th>48</th>\n",
       "      <td>JAGIEŁŁO</td>\n",
       "      <td>0.125000</td>\n",
       "    </tr>\n",
       "    <tr>\n",
       "      <th>...</th>\n",
       "      <td>...</td>\n",
       "      <td>...</td>\n",
       "    </tr>\n",
       "    <tr>\n",
       "      <th>18</th>\n",
       "      <td>BRYZA</td>\n",
       "      <td>18.125000</td>\n",
       "    </tr>\n",
       "    <tr>\n",
       "      <th>124</th>\n",
       "      <td>STAŃCZYK</td>\n",
       "      <td>19.361111</td>\n",
       "    </tr>\n",
       "    <tr>\n",
       "      <th>66</th>\n",
       "      <td>LUBOMIRSKI</td>\n",
       "      <td>21.687500</td>\n",
       "    </tr>\n",
       "    <tr>\n",
       "      <th>89</th>\n",
       "      <td>OLEŃKA</td>\n",
       "      <td>22.333333</td>\n",
       "    </tr>\n",
       "    <tr>\n",
       "      <th>1</th>\n",
       "      <td>ALBATROS</td>\n",
       "      <td>23.833333</td>\n",
       "    </tr>\n",
       "  </tbody>\n",
       "</table>\n",
       "<p>165 rows × 2 columns</p>\n",
       "</div>"
      ],
      "text/plain": [
       "           nazwa_pociagu  opoznienie\n",
       "71   MARSZAŁEK PIŁSUDSKI   -2.083333\n",
       "70                 MAMRY   -0.625000\n",
       "122           STARZYŃSKI    0.000000\n",
       "85              NIEGOCIN    0.041667\n",
       "48              JAGIEŁŁO    0.125000\n",
       "..                   ...         ...\n",
       "18                 BRYZA   18.125000\n",
       "124             STAŃCZYK   19.361111\n",
       "66            LUBOMIRSKI   21.687500\n",
       "89                OLEŃKA   22.333333\n",
       "1               ALBATROS   23.833333\n",
       "\n",
       "[165 rows x 2 columns]"
      ]
     },
     "execution_count": 12,
     "metadata": {},
     "output_type": "execute_result"
    }
   ],
   "source": [
    "mean_train_delay = df2.groupby(\"nazwa_pociagu\").mean().reset_index().sort_values(by = \"opoznienie\")\n",
    "mean_train_delay"
   ]
  },
  {
   "cell_type": "code",
   "execution_count": 13,
   "metadata": {},
   "outputs": [
    {
     "data": {
      "text/plain": [
       "[]"
      ]
     },
     "execution_count": 13,
     "metadata": {},
     "output_type": "execute_result"
    },
    {
     "data": {
      "image/png": "[encoded data removed]",
      "text/plain": [
       "<Figure size 640x480 with 1 Axes>"
      ]
     },
     "metadata": {},
     "output_type": "display_data"
    }
   ],
   "source": [
    "sns.barplot(x = \"nazwa_pociagu\", y = \"opoznienie\", data = mean_train_delay)\n",
    "plt.xticks([])\n",
    "plt.xlabel(\"Pociąg\")\n",
    "plt.ylabel(\"Opóźnienie\")\n",
    "plt.plot()"
   ]
  },
  {
   "attachments": {},
   "cell_type": "markdown",
   "metadata": {},
   "source": [
    "### Rodzaje pociągów"
   ]
  },
  {
   "cell_type": "code",
   "execution_count": 14,
   "metadata": {},
   "outputs": [
    {
     "data": {
      "text/plain": [
       "kod_pociagu\n",
       "ECE     4140\n",
       "EIE    10404\n",
       "EIJ    22464\n",
       "ENE      672\n",
       "MHE     6052\n",
       "MME     2760\n",
       "MPE    38700\n",
       "MPJ     2568\n",
       "MPM     1932\n",
       "MPS     2856\n",
       "Name: nazwa_pociagu, dtype: int64"
      ]
     },
     "execution_count": 14,
     "metadata": {},
     "output_type": "execute_result"
    }
   ],
   "source": [
    "df.insert(1, \"kod_pociagu\", df[\"nazwa_pociagu\"].apply(lambda x: x.split()[0]))\n",
    "train_types = df.groupby(\"kod_pociagu\").count()[\"nazwa_pociagu\"]\n",
    "train_types"
   ]
  },
  {
   "cell_type": "code",
   "execution_count": 15,
   "metadata": {},
   "outputs": [
    {
     "data": {
      "text/plain": [
       "<Axes: >"
      ]
     },
     "execution_count": 15,
     "metadata": {},
     "output_type": "execute_result"
    },
    {
     "data": {
      "image/png": "[encoded data removed]",
      "text/plain": [
       "<Figure size 640x480 with 1 Axes>"
      ]
     },
     "metadata": {},
     "output_type": "display_data"
    }
   ],
   "source": [
    "train_types.plot.pie(label = \"\", colors = [\"#f6dc68\", \"#c9cfd3\", \"#03313d\"])"
   ]
  },
  {
   "attachments": {},
   "cell_type": "markdown",
   "metadata": {},
   "source": [
    "### Kiedy są największe opóźnienia?"
   ]
  },
  {
   "cell_type": "code",
   "execution_count": 16,
   "metadata": {},
   "outputs": [
    {
     "data": {
      "text/html": [
       "<div>\n",
       "<style scoped>\n",
       "    .dataframe tbody tr th:only-of-type {\n",
       "        vertical-align: middle;\n",
       "    }\n",
       "\n",
       "    .dataframe tbody tr th {\n",
       "        vertical-align: top;\n",
       "    }\n",
       "\n",
       "    .dataframe thead th {\n",
       "        text-align: right;\n",
       "    }\n",
       "</style>\n",
       "<table border=\"1\" class=\"dataframe\">\n",
       "  <thead>\n",
       "    <tr style=\"text-align: right;\">\n",
       "      <th></th>\n",
       "      <th>nazwa_pociagu</th>\n",
       "      <th>kod_pociagu</th>\n",
       "      <th>stacja_poczatkowa</th>\n",
       "      <th>stacja_koncowa</th>\n",
       "      <th>stacja_pomiaru</th>\n",
       "      <th>data</th>\n",
       "      <th>dzien_tygodnia</th>\n",
       "      <th>czas_rozkladowy</th>\n",
       "      <th>czas_przyjazdu</th>\n",
       "      <th>opoznienie</th>\n",
       "    </tr>\n",
       "  </thead>\n",
       "  <tbody>\n",
       "    <tr>\n",
       "      <th>0</th>\n",
       "      <td>EIJ 3104/5</td>\n",
       "      <td>EIJ</td>\n",
       "      <td>Kraków Główny</td>\n",
       "      <td>Warszawa Gdańska</td>\n",
       "      <td>Kraków Główny</td>\n",
       "      <td>2023-03-10</td>\n",
       "      <td>4</td>\n",
       "      <td>18:04</td>\n",
       "      <td>18:04</td>\n",
       "      <td>0.0</td>\n",
       "    </tr>\n",
       "    <tr>\n",
       "      <th>1</th>\n",
       "      <td>EIJ 3104/5</td>\n",
       "      <td>EIJ</td>\n",
       "      <td>Kraków Główny</td>\n",
       "      <td>Warszawa Gdańska</td>\n",
       "      <td>Warszawa Gdańska</td>\n",
       "      <td>2023-03-10</td>\n",
       "      <td>4</td>\n",
       "      <td>20:31</td>\n",
       "      <td>20:27</td>\n",
       "      <td>-4.0</td>\n",
       "    </tr>\n",
       "    <tr>\n",
       "      <th>2</th>\n",
       "      <td>EIJ 3104/5</td>\n",
       "      <td>EIJ</td>\n",
       "      <td>Kraków Główny</td>\n",
       "      <td>Warszawa Gdańska</td>\n",
       "      <td>Kraków Główny</td>\n",
       "      <td>2023-03-09</td>\n",
       "      <td>3</td>\n",
       "      <td>18:04</td>\n",
       "      <td>18:04</td>\n",
       "      <td>0.0</td>\n",
       "    </tr>\n",
       "    <tr>\n",
       "      <th>3</th>\n",
       "      <td>EIJ 3104/5</td>\n",
       "      <td>EIJ</td>\n",
       "      <td>Kraków Główny</td>\n",
       "      <td>Warszawa Gdańska</td>\n",
       "      <td>Warszawa Gdańska</td>\n",
       "      <td>2023-03-09</td>\n",
       "      <td>3</td>\n",
       "      <td>20:31</td>\n",
       "      <td>20:28</td>\n",
       "      <td>-3.0</td>\n",
       "    </tr>\n",
       "    <tr>\n",
       "      <th>4</th>\n",
       "      <td>EIJ 3104/5</td>\n",
       "      <td>EIJ</td>\n",
       "      <td>Kraków Główny</td>\n",
       "      <td>Warszawa Gdańska</td>\n",
       "      <td>Kraków Główny</td>\n",
       "      <td>2023-03-08</td>\n",
       "      <td>2</td>\n",
       "      <td>18:04</td>\n",
       "      <td>18:04</td>\n",
       "      <td>0.0</td>\n",
       "    </tr>\n",
       "    <tr>\n",
       "      <th>...</th>\n",
       "      <td>...</td>\n",
       "      <td>...</td>\n",
       "      <td>...</td>\n",
       "      <td>...</td>\n",
       "      <td>...</td>\n",
       "      <td>...</td>\n",
       "      <td>...</td>\n",
       "      <td>...</td>\n",
       "      <td>...</td>\n",
       "      <td>...</td>\n",
       "    </tr>\n",
       "    <tr>\n",
       "      <th>92543</th>\n",
       "      <td>MPE 83152/3 LUBOMIRSKI</td>\n",
       "      <td>MPE</td>\n",
       "      <td>Kołobrzeg</td>\n",
       "      <td>Kraków Główny</td>\n",
       "      <td>Warszawa Zachodnia</td>\n",
       "      <td>2022-12-24</td>\n",
       "      <td>5</td>\n",
       "      <td>14:00</td>\n",
       "      <td>14:26</td>\n",
       "      <td>26.0</td>\n",
       "    </tr>\n",
       "    <tr>\n",
       "      <th>92544</th>\n",
       "      <td>MPE 83152/3 LUBOMIRSKI</td>\n",
       "      <td>MPE</td>\n",
       "      <td>Kołobrzeg</td>\n",
       "      <td>Kraków Główny</td>\n",
       "      <td>Opoczno Południe</td>\n",
       "      <td>2022-12-24</td>\n",
       "      <td>5</td>\n",
       "      <td>15:08</td>\n",
       "      <td>15:49</td>\n",
       "      <td>41.0</td>\n",
       "    </tr>\n",
       "    <tr>\n",
       "      <th>92545</th>\n",
       "      <td>MPE 83152/3 LUBOMIRSKI</td>\n",
       "      <td>MPE</td>\n",
       "      <td>Kołobrzeg</td>\n",
       "      <td>Kraków Główny</td>\n",
       "      <td>Włoszczowa Północ</td>\n",
       "      <td>2022-12-24</td>\n",
       "      <td>5</td>\n",
       "      <td>15:41</td>\n",
       "      <td>16:28</td>\n",
       "      <td>47.0</td>\n",
       "    </tr>\n",
       "    <tr>\n",
       "      <th>92546</th>\n",
       "      <td>MPE 83152/3 LUBOMIRSKI</td>\n",
       "      <td>MPE</td>\n",
       "      <td>Kołobrzeg</td>\n",
       "      <td>Kraków Główny</td>\n",
       "      <td>Miechów</td>\n",
       "      <td>2022-12-24</td>\n",
       "      <td>5</td>\n",
       "      <td>16:18</td>\n",
       "      <td>16:58</td>\n",
       "      <td>40.0</td>\n",
       "    </tr>\n",
       "    <tr>\n",
       "      <th>92547</th>\n",
       "      <td>MPE 83152/3 LUBOMIRSKI</td>\n",
       "      <td>MPE</td>\n",
       "      <td>Kołobrzeg</td>\n",
       "      <td>Kraków Główny</td>\n",
       "      <td>Kraków Główny</td>\n",
       "      <td>2022-12-24</td>\n",
       "      <td>5</td>\n",
       "      <td>16:50</td>\n",
       "      <td>17:29</td>\n",
       "      <td>39.0</td>\n",
       "    </tr>\n",
       "  </tbody>\n",
       "</table>\n",
       "<p>92548 rows × 10 columns</p>\n",
       "</div>"
      ],
      "text/plain": [
       "                nazwa_pociagu kod_pociagu stacja_poczatkowa    stacja_koncowa  \\\n",
       "0                  EIJ 3104/5         EIJ     Kraków Główny  Warszawa Gdańska   \n",
       "1                  EIJ 3104/5         EIJ     Kraków Główny  Warszawa Gdańska   \n",
       "2                  EIJ 3104/5         EIJ     Kraków Główny  Warszawa Gdańska   \n",
       "3                  EIJ 3104/5         EIJ     Kraków Główny  Warszawa Gdańska   \n",
       "4                  EIJ 3104/5         EIJ     Kraków Główny  Warszawa Gdańska   \n",
       "...                       ...         ...               ...               ...   \n",
       "92543  MPE 83152/3 LUBOMIRSKI         MPE         Kołobrzeg     Kraków Główny   \n",
       "92544  MPE 83152/3 LUBOMIRSKI         MPE         Kołobrzeg     Kraków Główny   \n",
       "92545  MPE 83152/3 LUBOMIRSKI         MPE         Kołobrzeg     Kraków Główny   \n",
       "92546  MPE 83152/3 LUBOMIRSKI         MPE         Kołobrzeg     Kraków Główny   \n",
       "92547  MPE 83152/3 LUBOMIRSKI         MPE         Kołobrzeg     Kraków Główny   \n",
       "\n",
       "           stacja_pomiaru        data  dzien_tygodnia czas_rozkladowy  \\\n",
       "0           Kraków Główny  2023-03-10               4           18:04   \n",
       "1        Warszawa Gdańska  2023-03-10               4           20:31   \n",
       "2           Kraków Główny  2023-03-09               3           18:04   \n",
       "3        Warszawa Gdańska  2023-03-09               3           20:31   \n",
       "4           Kraków Główny  2023-03-08               2           18:04   \n",
       "...                   ...         ...             ...             ...   \n",
       "92543  Warszawa Zachodnia  2022-12-24               5           14:00   \n",
       "92544    Opoczno Południe  2022-12-24               5           15:08   \n",
       "92545   Włoszczowa Północ  2022-12-24               5           15:41   \n",
       "92546             Miechów  2022-12-24               5           16:18   \n",
       "92547       Kraków Główny  2022-12-24               5           16:50   \n",
       "\n",
       "      czas_przyjazdu  opoznienie  \n",
       "0              18:04         0.0  \n",
       "1              20:27        -4.0  \n",
       "2              18:04         0.0  \n",
       "3              20:28        -3.0  \n",
       "4              18:04         0.0  \n",
       "...              ...         ...  \n",
       "92543          14:26        26.0  \n",
       "92544          15:49        41.0  \n",
       "92545          16:28        47.0  \n",
       "92546          16:58        40.0  \n",
       "92547          17:29        39.0  \n",
       "\n",
       "[92548 rows x 10 columns]"
      ]
     },
     "execution_count": 16,
     "metadata": {},
     "output_type": "execute_result"
    }
   ],
   "source": [
    "df[\"data\"]  = df[\"data\"].apply(lambda x: datetime.strptime(x[:5] + \".2023\" if int(x.split(\".\")[1]) < 10 else x[:5] + \".2022\", \"%d.%m.%Y\").date())\n",
    "df.insert(6, \"dzien_tygodnia\", df[\"data\"].apply(lambda x: x.weekday())) # 0 - pon, 6 - nd\n",
    "df"
   ]
  },
  {
   "cell_type": "code",
   "execution_count": 17,
   "metadata": {},
   "outputs": [
    {
     "name": "stderr",
     "output_type": "stream",
     "text": [
      "C:\\Users\\klaud\\AppData\\Local\\Temp\\ipykernel_8492\\1226082379.py:1: FutureWarning: The default value of numeric_only in DataFrameGroupBy.mean is deprecated. In a future version, numeric_only will default to False. Either specify numeric_only or select only columns which should be valid for the function.\n",
      "  mean_delay_weekday = df.groupby(\"dzien_tygodnia\").mean()\n"
     ]
    },
    {
     "data": {
      "text/html": [
       "<div>\n",
       "<style scoped>\n",
       "    .dataframe tbody tr th:only-of-type {\n",
       "        vertical-align: middle;\n",
       "    }\n",
       "\n",
       "    .dataframe tbody tr th {\n",
       "        vertical-align: top;\n",
       "    }\n",
       "\n",
       "    .dataframe thead th {\n",
       "        text-align: right;\n",
       "    }\n",
       "</style>\n",
       "<table border=\"1\" class=\"dataframe\">\n",
       "  <thead>\n",
       "    <tr style=\"text-align: right;\">\n",
       "      <th></th>\n",
       "      <th>opoznienie</th>\n",
       "    </tr>\n",
       "    <tr>\n",
       "      <th>dzien_tygodnia</th>\n",
       "      <th></th>\n",
       "    </tr>\n",
       "  </thead>\n",
       "  <tbody>\n",
       "    <tr>\n",
       "      <th>0</th>\n",
       "      <td>4.126171</td>\n",
       "    </tr>\n",
       "    <tr>\n",
       "      <th>1</th>\n",
       "      <td>3.671549</td>\n",
       "    </tr>\n",
       "    <tr>\n",
       "      <th>2</th>\n",
       "      <td>7.034063</td>\n",
       "    </tr>\n",
       "    <tr>\n",
       "      <th>3</th>\n",
       "      <td>5.045924</td>\n",
       "    </tr>\n",
       "    <tr>\n",
       "      <th>4</th>\n",
       "      <td>9.076769</td>\n",
       "    </tr>\n",
       "    <tr>\n",
       "      <th>5</th>\n",
       "      <td>4.921201</td>\n",
       "    </tr>\n",
       "    <tr>\n",
       "      <th>6</th>\n",
       "      <td>3.495652</td>\n",
       "    </tr>\n",
       "  </tbody>\n",
       "</table>\n",
       "</div>"
      ],
      "text/plain": [
       "                opoznienie\n",
       "dzien_tygodnia            \n",
       "0                 4.126171\n",
       "1                 3.671549\n",
       "2                 7.034063\n",
       "3                 5.045924\n",
       "4                 9.076769\n",
       "5                 4.921201\n",
       "6                 3.495652"
      ]
     },
     "execution_count": 17,
     "metadata": {},
     "output_type": "execute_result"
    }
   ],
   "source": [
    "mean_delay_weekday = df.groupby(\"dzien_tygodnia\").mean()\n",
    "mean_delay_weekday"
   ]
  },
  {
   "cell_type": "code",
   "execution_count": 18,
   "metadata": {},
   "outputs": [
    {
     "data": {
      "text/plain": [
       "Text(0, 0.5, 'Opóźnienie')"
      ]
     },
     "execution_count": 18,
     "metadata": {},
     "output_type": "execute_result"
    },
    {
     "data": {
      "image/png": "[encoded data removed]",
      "text/plain": [
       "<Figure size 640x480 with 1 Axes>"
      ]
     },
     "metadata": {},
     "output_type": "display_data"
    }
   ],
   "source": [
    "sns.barplot(x = [\"pon\", \"wt\", \"śr\", \"czw\", \"pt\", \"sb\", \"nd\"], y = \"opoznienie\", data = mean_delay_weekday, color = \"#f6dc68\")\n",
    "plt.ylabel(\"Opóźnienie\")"
   ]
  }
 ],
 "metadata": {
  "kernelspec": {
   "display_name": "Python 3",
   "language": "python",
   "name": "python3"
  },
  "language_info": {
   "codemirror_mode": {
    "name": "ipython",
    "version": 3
   },
   "file_extension": ".py",
   "mimetype": "text/x-python",
   "name": "python",
   "nbconvert_exporter": "python",
   "pygments_lexer": "ipython3",
   "version": "3.11.0"
  },
  "orig_nbformat": 4
 },
 "nbformat": 4,
 "nbformat_minor": 2
}
